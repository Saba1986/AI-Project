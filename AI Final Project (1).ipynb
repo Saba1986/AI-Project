{
 "cells": [
  {
   "cell_type": "code",
   "execution_count": 347,
   "id": "b6038af4",
   "metadata": {},
   "outputs": [
    {
     "name": "stdout",
     "output_type": "stream",
     "text": [
      "['.conda', '.gitconfig', '.ipynb_checkpoints', '.ipython', '.jupyter', '.keras', '.matplotlib', '.spyder-py3', '.ssh', '3D Objects', '545_cluster_dataset programming 3.txt', 'aa.txt', 'AI Final Project.ipynb', 'AI.15puzzle', 'AI.8PUZZLE', 'AI.HW#2.PRO', 'AI.prog#1.A.ipynb', 'AI.Prog#1.Astar.complete', 'AI.Prog#1.Astar.complete1.ipynb', 'AI.prog#1.Astar.final8.ipynb', 'AI.Prog#1.Astar.main', 'AI.PROG#1.Astar15.ipynb', 'AI.PROG#2.8queen', 'AI.VACUUM.WORLD.ipynb', 'AppData', 'Application Data', 'Assignment 2 Word Vectors (due 1022, 1159pm) attached files Oct 16, 2021 831 PM.zip', 'Contacts', 'Cookies', 'Desktop', 'Documents', 'Double-Hard-Debias-master', 'Downloads', 'embedding', 'env.yml', 'eval.py', 'evaluate_similarity.py', 'F.Double-Hard-Debias-master', 'F.word-embeddings-benchmarks-master', 'Favorites', 'female_word_file.txt', 'Final.EXAM.ipynb', 'Full.ipynb', 'Fuzzy-C-means-from-scratch-main', 'gender_specific_full.json', 'gensim-data', 'glove.6B.300d.txt', 'glove.6B.50d.txt', 'GloVe_Debias.ipynb', 'GloVe_Eval.ipynb', 'GoogleNews-vectors-negative300-hard-debiased.bin', 'GoogleNews-vectors-negative300.bin', 'gradiend_descent_2d_python.png', 'GREEDY-BEST-FIRST.ipynb', 'healthcare-dataset-stroke-data.csv', 'healthcare-dataset-stroke-dataf.csv', 'heart.csv', 'IntelGraphicsProfiles', 'Jedi', 'Links', 'Local Settings', 'MACHINE LEARNING.PROG#2.ipynb', 'male_word_file.txt', 'ml', 'ML.#PROG2.NEW.ipynb', 'ml.new.last.ipynb', 'ML.pg#1.ipynb', 'ML.prog#1.asli.mail.ipynb', 'ML.prog#1.final.ipynb', 'ML.prog#1.main.koli.ipynb', 'ML.Prog#2.1.ipynb', 'ML.PROG#2.F.ipynb', 'ML.PROG#2.Final.F', 'ML.PROG#2.Harshi', 'ML.PROG#2.ipynb', 'ML.PROG#3.1.ipynb', 'ML.PROG#3.2.ipynb', 'ML.PROG#3.ipynb', 'ml.prog1.no3.ipynb', 'Ml.prog1.TA.ipynb', 'ML.prog2#', 'mnist_test.csv', 'mnist_tests.csv', 'mnist_train.csv', 'Music', 'My Documents', 'myhomework.ipynb', 'NetHood', 'new word2.word2', 'new.ipynb', 'new.word.vectors', 'new22.ipynb', 'nist_tests.csv', 'NLP.HW#3.ipynb', 'NLP.HW1.FINAL.ipynb', 'NLP.HW4.ipynb', 'NRC-Emotion-Intensity-Lexicon-v1.txt', 'nslookup', 'NTUSER.DAT', 'ntuser.dat.LOG1', 'ntuser.dat.LOG2', 'NTUSER.DAT{1c2b59c6-c5f5-11eb-bacb-000d3a96488e}.TM.blf', 'NTUSER.DAT{1c2b59c6-c5f5-11eb-bacb-000d3a96488e}.TMContainer00000000000000000001.regtrans-ms', 'NTUSER.DAT{1c2b59c6-c5f5-11eb-bacb-000d3a96488e}.TMContainer00000000000000000002.regtrans-ms', 'ntuser.ini', 'OneDrive', 'Pictures', 'PrintHood', 'prog#1.asli', 'prog#1.asli.maiiiin2', 'Prog#1.final.maiiiin.mainnnn', 'Recent', 'sample_submission.csv', 'Sarcasm_Headlines.json', 'Saved Games', 'scikit_learn_data', 'Searches', 'SendTo', 'spambase (1).names', 'spambase.data', 'spambase.DOCUMENTATION', 'spambase.names', 'Start Menu', 'Templates', 'test.csv', 'test.ipynb', 'test_output0.001.csv', 'train.csv', 'train_output0.001.csv', 'untitled', 'Untitled Folder', 'Untitled.ipynb', 'Untitled1.ipynb', 'Untitled10.ipynb', 'Untitled11.ipynb', 'Untitled12.ipynb', 'Untitled13.ipynb', 'Untitled14.ipynb', 'Untitled15.ipynb', 'Untitled16.ipynb', 'Untitled17.ipynb', 'Untitled18.ipynb', 'Untitled19.ipynb', 'Untitled2.ipynb', 'Untitled20.ipynb', 'Untitled21.ipynb', 'Untitled22.ipynb', 'Untitled23.ipynb', 'Untitled24.ipynb', 'Untitled25.ipynb', 'Untitled26.ipynb', 'Untitled27.ipynb', 'Untitled28.ipynb', 'Untitled29.ipynb', 'Untitled3.ipynb', 'Untitled30.ipynb', 'Untitled31.ipynb', 'Untitled32.ipynb', 'Untitled33.ipynb', 'Untitled34.ipynb', 'Untitled35.ipynb', 'Untitled36.ipynb', 'Untitled37.ipynb', 'Untitled38.ipynb', 'Untitled39.ipynb', 'Untitled4.ipynb', 'Untitled40.ipynb', 'Untitled41.ipynb', 'Untitled42.ipynb', 'Untitled43.ipynb', 'Untitled44.ipynb', 'Untitled45.ipynb', 'Untitled46.ipynb', 'Untitled47.ipynb', 'Untitled48.ipynb', 'Untitled49.ipynb', 'Untitled5.ipynb', 'Untitled50.ipynb', 'Untitled51.ipynb', 'Untitled52.ipynb', 'Untitled53.ipynb', 'Untitled54.ipynb', 'Untitled55.ipynb', 'Untitled56.ipynb', 'Untitled57.ipynb', 'Untitled58.ipynb', 'Untitled59.ipynb', 'Untitled6.ipynb', 'Untitled60.ipynb', 'Untitled61.ipynb', 'Untitled62.ipynb', 'Untitled7.ipynb', 'Untitled8.ipynb', 'Untitled9.ipynb', 'utils.py', 'utils.py.ipynb', 'uvavision_Double-Hard-Debias_ [ACL 2020] Double-Hard Debias_ Tailoring Word Embeddings for Gender Bias Mitigation.html', 'vectors.txt', 'Videos', 'web_data', 'Word2Vec_Eval.ipynb', 'wordAster', 'wordBenchmarks', 'wordEmbeddings', 'wordMaster', 'word_vectors.ipynb', 'word_vectors_2.ipynb', '__pycache__']\n"
     ]
    }
   ],
   "source": [
    "import numpy as np\n",
    "import pandas as pd\n",
    "import matplotlib.pyplot as plt\n",
    "import seaborn as sns\n",
    "\n",
    "%matplotlib inline\n",
    "\n",
    "import os\n",
    "print(os.listdir())\n",
    "\n",
    "import warnings\n",
    "#warnings.filterwarnings('ignore')"
   ]
  },
  {
   "cell_type": "code",
   "execution_count": 348,
   "id": "f4addf3b",
   "metadata": {},
   "outputs": [],
   "source": [
    "dataset = pd.read_csv(\"healthcare-dataset-stroke-dataf.csv\")"
   ]
  },
  {
   "cell_type": "code",
   "execution_count": 349,
   "id": "a45b6335",
   "metadata": {},
   "outputs": [
    {
     "data": {
      "text/plain": [
       "pandas.core.frame.DataFrame"
      ]
     },
     "execution_count": 349,
     "metadata": {},
     "output_type": "execute_result"
    }
   ],
   "source": [
    "type(dataset)"
   ]
  },
  {
   "cell_type": "code",
   "execution_count": 350,
   "id": "5b272b94",
   "metadata": {},
   "outputs": [
    {
     "data": {
      "text/plain": [
       "(5110, 12)"
      ]
     },
     "execution_count": 350,
     "metadata": {},
     "output_type": "execute_result"
    }
   ],
   "source": [
    "dataset.shape"
   ]
  },
  {
   "cell_type": "code",
   "execution_count": 351,
   "id": "589d2246",
   "metadata": {},
   "outputs": [
    {
     "data": {
      "text/html": [
       "<div>\n",
       "<style scoped>\n",
       "    .dataframe tbody tr th:only-of-type {\n",
       "        vertical-align: middle;\n",
       "    }\n",
       "\n",
       "    .dataframe tbody tr th {\n",
       "        vertical-align: top;\n",
       "    }\n",
       "\n",
       "    .dataframe thead th {\n",
       "        text-align: right;\n",
       "    }\n",
       "</style>\n",
       "<table border=\"1\" class=\"dataframe\">\n",
       "  <thead>\n",
       "    <tr style=\"text-align: right;\">\n",
       "      <th></th>\n",
       "      <th>id</th>\n",
       "      <th>gender</th>\n",
       "      <th>age</th>\n",
       "      <th>hypertension</th>\n",
       "      <th>heart_disease</th>\n",
       "      <th>ever_married</th>\n",
       "      <th>work_type</th>\n",
       "      <th>Residence_type</th>\n",
       "      <th>avg_glucose_level</th>\n",
       "      <th>bmi</th>\n",
       "      <th>smoking_status</th>\n",
       "      <th>stroke</th>\n",
       "    </tr>\n",
       "  </thead>\n",
       "  <tbody>\n",
       "    <tr>\n",
       "      <th>0</th>\n",
       "      <td>9046</td>\n",
       "      <td>1</td>\n",
       "      <td>67.0</td>\n",
       "      <td>0</td>\n",
       "      <td>1</td>\n",
       "      <td>1</td>\n",
       "      <td>1</td>\n",
       "      <td>1</td>\n",
       "      <td>228.69</td>\n",
       "      <td>36.6</td>\n",
       "      <td>1</td>\n",
       "      <td>1</td>\n",
       "    </tr>\n",
       "    <tr>\n",
       "      <th>1</th>\n",
       "      <td>51676</td>\n",
       "      <td>0</td>\n",
       "      <td>61.0</td>\n",
       "      <td>0</td>\n",
       "      <td>0</td>\n",
       "      <td>1</td>\n",
       "      <td>2</td>\n",
       "      <td>2</td>\n",
       "      <td>202.21</td>\n",
       "      <td>NaN</td>\n",
       "      <td>2</td>\n",
       "      <td>1</td>\n",
       "    </tr>\n",
       "    <tr>\n",
       "      <th>2</th>\n",
       "      <td>31112</td>\n",
       "      <td>1</td>\n",
       "      <td>80.0</td>\n",
       "      <td>0</td>\n",
       "      <td>1</td>\n",
       "      <td>1</td>\n",
       "      <td>1</td>\n",
       "      <td>2</td>\n",
       "      <td>105.92</td>\n",
       "      <td>32.5</td>\n",
       "      <td>2</td>\n",
       "      <td>1</td>\n",
       "    </tr>\n",
       "    <tr>\n",
       "      <th>3</th>\n",
       "      <td>60182</td>\n",
       "      <td>0</td>\n",
       "      <td>49.0</td>\n",
       "      <td>0</td>\n",
       "      <td>0</td>\n",
       "      <td>1</td>\n",
       "      <td>1</td>\n",
       "      <td>1</td>\n",
       "      <td>171.23</td>\n",
       "      <td>34.4</td>\n",
       "      <td>3</td>\n",
       "      <td>1</td>\n",
       "    </tr>\n",
       "    <tr>\n",
       "      <th>4</th>\n",
       "      <td>1665</td>\n",
       "      <td>0</td>\n",
       "      <td>79.0</td>\n",
       "      <td>1</td>\n",
       "      <td>0</td>\n",
       "      <td>1</td>\n",
       "      <td>2</td>\n",
       "      <td>2</td>\n",
       "      <td>174.12</td>\n",
       "      <td>24.0</td>\n",
       "      <td>2</td>\n",
       "      <td>1</td>\n",
       "    </tr>\n",
       "  </tbody>\n",
       "</table>\n",
       "</div>"
      ],
      "text/plain": [
       "      id  gender   age  hypertension  heart_disease  ever_married  work_type  \\\n",
       "0   9046       1  67.0             0              1             1          1   \n",
       "1  51676       0  61.0             0              0             1          2   \n",
       "2  31112       1  80.0             0              1             1          1   \n",
       "3  60182       0  49.0             0              0             1          1   \n",
       "4   1665       0  79.0             1              0             1          2   \n",
       "\n",
       "   Residence_type  avg_glucose_level   bmi  smoking_status  stroke  \n",
       "0               1             228.69  36.6               1       1  \n",
       "1               2             202.21   NaN               2       1  \n",
       "2               2             105.92  32.5               2       1  \n",
       "3               1             171.23  34.4               3       1  \n",
       "4               2             174.12  24.0               2       1  "
      ]
     },
     "execution_count": 351,
     "metadata": {},
     "output_type": "execute_result"
    }
   ],
   "source": [
    "dataset.head(5)"
   ]
  },
  {
   "cell_type": "code",
   "execution_count": 352,
   "id": "190d0aca",
   "metadata": {},
   "outputs": [
    {
     "data": {
      "text/html": [
       "<div>\n",
       "<style scoped>\n",
       "    .dataframe tbody tr th:only-of-type {\n",
       "        vertical-align: middle;\n",
       "    }\n",
       "\n",
       "    .dataframe tbody tr th {\n",
       "        vertical-align: top;\n",
       "    }\n",
       "\n",
       "    .dataframe thead th {\n",
       "        text-align: right;\n",
       "    }\n",
       "</style>\n",
       "<table border=\"1\" class=\"dataframe\">\n",
       "  <thead>\n",
       "    <tr style=\"text-align: right;\">\n",
       "      <th></th>\n",
       "      <th>id</th>\n",
       "      <th>gender</th>\n",
       "      <th>age</th>\n",
       "      <th>hypertension</th>\n",
       "      <th>heart_disease</th>\n",
       "      <th>ever_married</th>\n",
       "      <th>work_type</th>\n",
       "      <th>Residence_type</th>\n",
       "      <th>avg_glucose_level</th>\n",
       "      <th>bmi</th>\n",
       "      <th>smoking_status</th>\n",
       "      <th>stroke</th>\n",
       "    </tr>\n",
       "  </thead>\n",
       "  <tbody>\n",
       "    <tr>\n",
       "      <th>735</th>\n",
       "      <td>52808</td>\n",
       "      <td>1</td>\n",
       "      <td>73.0</td>\n",
       "      <td>0</td>\n",
       "      <td>0</td>\n",
       "      <td>1</td>\n",
       "      <td>1</td>\n",
       "      <td>1</td>\n",
       "      <td>84.11</td>\n",
       "      <td>27.9</td>\n",
       "      <td>2</td>\n",
       "      <td>0</td>\n",
       "    </tr>\n",
       "    <tr>\n",
       "      <th>1711</th>\n",
       "      <td>12512</td>\n",
       "      <td>0</td>\n",
       "      <td>52.0</td>\n",
       "      <td>1</td>\n",
       "      <td>0</td>\n",
       "      <td>1</td>\n",
       "      <td>1</td>\n",
       "      <td>2</td>\n",
       "      <td>213.54</td>\n",
       "      <td>32.0</td>\n",
       "      <td>2</td>\n",
       "      <td>0</td>\n",
       "    </tr>\n",
       "    <tr>\n",
       "      <th>4601</th>\n",
       "      <td>25927</td>\n",
       "      <td>1</td>\n",
       "      <td>36.0</td>\n",
       "      <td>0</td>\n",
       "      <td>0</td>\n",
       "      <td>1</td>\n",
       "      <td>1</td>\n",
       "      <td>2</td>\n",
       "      <td>106.73</td>\n",
       "      <td>25.1</td>\n",
       "      <td>2</td>\n",
       "      <td>0</td>\n",
       "    </tr>\n",
       "    <tr>\n",
       "      <th>2639</th>\n",
       "      <td>51524</td>\n",
       "      <td>0</td>\n",
       "      <td>34.0</td>\n",
       "      <td>0</td>\n",
       "      <td>0</td>\n",
       "      <td>1</td>\n",
       "      <td>1</td>\n",
       "      <td>2</td>\n",
       "      <td>94.44</td>\n",
       "      <td>34.2</td>\n",
       "      <td>4</td>\n",
       "      <td>0</td>\n",
       "    </tr>\n",
       "    <tr>\n",
       "      <th>876</th>\n",
       "      <td>19742</td>\n",
       "      <td>0</td>\n",
       "      <td>37.0</td>\n",
       "      <td>0</td>\n",
       "      <td>0</td>\n",
       "      <td>1</td>\n",
       "      <td>1</td>\n",
       "      <td>1</td>\n",
       "      <td>106.35</td>\n",
       "      <td>29.7</td>\n",
       "      <td>2</td>\n",
       "      <td>0</td>\n",
       "    </tr>\n",
       "  </tbody>\n",
       "</table>\n",
       "</div>"
      ],
      "text/plain": [
       "         id  gender   age  hypertension  heart_disease  ever_married  \\\n",
       "735   52808       1  73.0             0              0             1   \n",
       "1711  12512       0  52.0             1              0             1   \n",
       "4601  25927       1  36.0             0              0             1   \n",
       "2639  51524       0  34.0             0              0             1   \n",
       "876   19742       0  37.0             0              0             1   \n",
       "\n",
       "      work_type  Residence_type  avg_glucose_level   bmi  smoking_status  \\\n",
       "735           1               1              84.11  27.9               2   \n",
       "1711          1               2             213.54  32.0               2   \n",
       "4601          1               2             106.73  25.1               2   \n",
       "2639          1               2              94.44  34.2               4   \n",
       "876           1               1             106.35  29.7               2   \n",
       "\n",
       "      stroke  \n",
       "735        0  \n",
       "1711       0  \n",
       "4601       0  \n",
       "2639       0  \n",
       "876        0  "
      ]
     },
     "execution_count": 352,
     "metadata": {},
     "output_type": "execute_result"
    }
   ],
   "source": [
    "dataset.sample(5)"
   ]
  },
  {
   "cell_type": "code",
   "execution_count": 353,
   "id": "38d2d48e",
   "metadata": {},
   "outputs": [
    {
     "data": {
      "text/html": [
       "<div>\n",
       "<style scoped>\n",
       "    .dataframe tbody tr th:only-of-type {\n",
       "        vertical-align: middle;\n",
       "    }\n",
       "\n",
       "    .dataframe tbody tr th {\n",
       "        vertical-align: top;\n",
       "    }\n",
       "\n",
       "    .dataframe thead th {\n",
       "        text-align: right;\n",
       "    }\n",
       "</style>\n",
       "<table border=\"1\" class=\"dataframe\">\n",
       "  <thead>\n",
       "    <tr style=\"text-align: right;\">\n",
       "      <th></th>\n",
       "      <th>id</th>\n",
       "      <th>gender</th>\n",
       "      <th>age</th>\n",
       "      <th>hypertension</th>\n",
       "      <th>heart_disease</th>\n",
       "      <th>ever_married</th>\n",
       "      <th>work_type</th>\n",
       "      <th>Residence_type</th>\n",
       "      <th>avg_glucose_level</th>\n",
       "      <th>bmi</th>\n",
       "      <th>smoking_status</th>\n",
       "      <th>stroke</th>\n",
       "    </tr>\n",
       "  </thead>\n",
       "  <tbody>\n",
       "    <tr>\n",
       "      <th>count</th>\n",
       "      <td>5110.000000</td>\n",
       "      <td>5110.000000</td>\n",
       "      <td>5110.000000</td>\n",
       "      <td>5110.000000</td>\n",
       "      <td>5110.000000</td>\n",
       "      <td>5110.000000</td>\n",
       "      <td>5110.000000</td>\n",
       "      <td>5110.000000</td>\n",
       "      <td>5110.000000</td>\n",
       "      <td>4909.000000</td>\n",
       "      <td>5110.000000</td>\n",
       "      <td>5110.000000</td>\n",
       "    </tr>\n",
       "    <tr>\n",
       "      <th>mean</th>\n",
       "      <td>36517.829354</td>\n",
       "      <td>0.414286</td>\n",
       "      <td>43.226614</td>\n",
       "      <td>0.097456</td>\n",
       "      <td>0.054012</td>\n",
       "      <td>0.656164</td>\n",
       "      <td>1.837965</td>\n",
       "      <td>1.491977</td>\n",
       "      <td>106.147677</td>\n",
       "      <td>28.893237</td>\n",
       "      <td>2.585519</td>\n",
       "      <td>0.048728</td>\n",
       "    </tr>\n",
       "    <tr>\n",
       "      <th>std</th>\n",
       "      <td>21161.721625</td>\n",
       "      <td>0.493044</td>\n",
       "      <td>22.612647</td>\n",
       "      <td>0.296607</td>\n",
       "      <td>0.226063</td>\n",
       "      <td>0.475034</td>\n",
       "      <td>1.118698</td>\n",
       "      <td>0.499985</td>\n",
       "      <td>45.283560</td>\n",
       "      <td>7.854067</td>\n",
       "      <td>1.092522</td>\n",
       "      <td>0.215320</td>\n",
       "    </tr>\n",
       "    <tr>\n",
       "      <th>min</th>\n",
       "      <td>67.000000</td>\n",
       "      <td>0.000000</td>\n",
       "      <td>0.080000</td>\n",
       "      <td>0.000000</td>\n",
       "      <td>0.000000</td>\n",
       "      <td>0.000000</td>\n",
       "      <td>1.000000</td>\n",
       "      <td>1.000000</td>\n",
       "      <td>55.120000</td>\n",
       "      <td>10.300000</td>\n",
       "      <td>1.000000</td>\n",
       "      <td>0.000000</td>\n",
       "    </tr>\n",
       "    <tr>\n",
       "      <th>25%</th>\n",
       "      <td>17741.250000</td>\n",
       "      <td>0.000000</td>\n",
       "      <td>25.000000</td>\n",
       "      <td>0.000000</td>\n",
       "      <td>0.000000</td>\n",
       "      <td>0.000000</td>\n",
       "      <td>1.000000</td>\n",
       "      <td>1.000000</td>\n",
       "      <td>77.245000</td>\n",
       "      <td>23.500000</td>\n",
       "      <td>2.000000</td>\n",
       "      <td>0.000000</td>\n",
       "    </tr>\n",
       "    <tr>\n",
       "      <th>50%</th>\n",
       "      <td>36932.000000</td>\n",
       "      <td>0.000000</td>\n",
       "      <td>45.000000</td>\n",
       "      <td>0.000000</td>\n",
       "      <td>0.000000</td>\n",
       "      <td>1.000000</td>\n",
       "      <td>1.000000</td>\n",
       "      <td>1.000000</td>\n",
       "      <td>91.885000</td>\n",
       "      <td>28.100000</td>\n",
       "      <td>2.000000</td>\n",
       "      <td>0.000000</td>\n",
       "    </tr>\n",
       "    <tr>\n",
       "      <th>75%</th>\n",
       "      <td>54682.000000</td>\n",
       "      <td>1.000000</td>\n",
       "      <td>61.000000</td>\n",
       "      <td>0.000000</td>\n",
       "      <td>0.000000</td>\n",
       "      <td>1.000000</td>\n",
       "      <td>3.000000</td>\n",
       "      <td>2.000000</td>\n",
       "      <td>114.090000</td>\n",
       "      <td>33.100000</td>\n",
       "      <td>4.000000</td>\n",
       "      <td>0.000000</td>\n",
       "    </tr>\n",
       "    <tr>\n",
       "      <th>max</th>\n",
       "      <td>72940.000000</td>\n",
       "      <td>2.000000</td>\n",
       "      <td>82.000000</td>\n",
       "      <td>1.000000</td>\n",
       "      <td>1.000000</td>\n",
       "      <td>1.000000</td>\n",
       "      <td>5.000000</td>\n",
       "      <td>2.000000</td>\n",
       "      <td>271.740000</td>\n",
       "      <td>97.600000</td>\n",
       "      <td>4.000000</td>\n",
       "      <td>1.000000</td>\n",
       "    </tr>\n",
       "  </tbody>\n",
       "</table>\n",
       "</div>"
      ],
      "text/plain": [
       "                 id       gender          age  hypertension  heart_disease  \\\n",
       "count   5110.000000  5110.000000  5110.000000   5110.000000    5110.000000   \n",
       "mean   36517.829354     0.414286    43.226614      0.097456       0.054012   \n",
       "std    21161.721625     0.493044    22.612647      0.296607       0.226063   \n",
       "min       67.000000     0.000000     0.080000      0.000000       0.000000   \n",
       "25%    17741.250000     0.000000    25.000000      0.000000       0.000000   \n",
       "50%    36932.000000     0.000000    45.000000      0.000000       0.000000   \n",
       "75%    54682.000000     1.000000    61.000000      0.000000       0.000000   \n",
       "max    72940.000000     2.000000    82.000000      1.000000       1.000000   \n",
       "\n",
       "       ever_married    work_type  Residence_type  avg_glucose_level  \\\n",
       "count   5110.000000  5110.000000     5110.000000        5110.000000   \n",
       "mean       0.656164     1.837965        1.491977         106.147677   \n",
       "std        0.475034     1.118698        0.499985          45.283560   \n",
       "min        0.000000     1.000000        1.000000          55.120000   \n",
       "25%        0.000000     1.000000        1.000000          77.245000   \n",
       "50%        1.000000     1.000000        1.000000          91.885000   \n",
       "75%        1.000000     3.000000        2.000000         114.090000   \n",
       "max        1.000000     5.000000        2.000000         271.740000   \n",
       "\n",
       "               bmi  smoking_status       stroke  \n",
       "count  4909.000000     5110.000000  5110.000000  \n",
       "mean     28.893237        2.585519     0.048728  \n",
       "std       7.854067        1.092522     0.215320  \n",
       "min      10.300000        1.000000     0.000000  \n",
       "25%      23.500000        2.000000     0.000000  \n",
       "50%      28.100000        2.000000     0.000000  \n",
       "75%      33.100000        4.000000     0.000000  \n",
       "max      97.600000        4.000000     1.000000  "
      ]
     },
     "execution_count": 353,
     "metadata": {},
     "output_type": "execute_result"
    }
   ],
   "source": [
    "dataset.describe()"
   ]
  },
  {
   "cell_type": "code",
   "execution_count": 354,
   "id": "2c575722",
   "metadata": {},
   "outputs": [
    {
     "name": "stdout",
     "output_type": "stream",
     "text": [
      "<class 'pandas.core.frame.DataFrame'>\n",
      "RangeIndex: 5110 entries, 0 to 5109\n",
      "Data columns (total 12 columns):\n",
      " #   Column             Non-Null Count  Dtype  \n",
      "---  ------             --------------  -----  \n",
      " 0   id                 5110 non-null   int64  \n",
      " 1   gender             5110 non-null   int64  \n",
      " 2   age                5110 non-null   float64\n",
      " 3   hypertension       5110 non-null   int64  \n",
      " 4   heart_disease      5110 non-null   int64  \n",
      " 5   ever_married       5110 non-null   int64  \n",
      " 6   work_type          5110 non-null   int64  \n",
      " 7   Residence_type     5110 non-null   int64  \n",
      " 8   avg_glucose_level  5110 non-null   float64\n",
      " 9   bmi                4909 non-null   float64\n",
      " 10  smoking_status     5110 non-null   int64  \n",
      " 11  stroke             5110 non-null   int64  \n",
      "dtypes: float64(3), int64(9)\n",
      "memory usage: 479.2 KB\n"
     ]
    }
   ],
   "source": [
    "dataset.info()"
   ]
  },
  {
   "cell_type": "code",
   "execution_count": 355,
   "id": "07cd3b47",
   "metadata": {},
   "outputs": [
    {
     "name": "stdout",
     "output_type": "stream",
     "text": [
      "id:\t\t\tid\n",
      "gender:\t\t\t1: male, 0: female\n",
      "age:\t\t\thypertension, 1: yes, 0: no\n",
      "hypertension:\t\t\theart_disease, 1: yes, 0: no\n",
      "heart_disease:\t\t\t ever_married, 1: yes, 0: no\n",
      "ever_married:\t\t\twork_type, 1: private, 2: govt_job, 3: self-employed, 4: children, 5: Never_worked\n",
      "work_type:\t\t\tResidence_type, 1: urban, 2: rural\n",
      "Residence_type:\t\t\t avg_glucose_level\n",
      "avg_glucose_level:\t\t\texercise induced angina\n",
      "bmi:\t\t\tbmi\n",
      "smoking_status:\t\t\tsmoking_status, 1: formerly smoked, 2: never smoked, 3: smokes, 4: unknown\n"
     ]
    }
   ],
   "source": [
    "info = [\"id\",\"1: male, 0: female\",\"hypertension, 1: yes, 0: no\",\"heart_disease, 1: yes, 0: no\",\" ever_married, 1: yes, 0: no\",\"work_type, 1: private, 2: govt_job, 3: self-employed, 4: children, 5: Never_worked\",\"Residence_type, 1: urban, 2: rural\",\" avg_glucose_level\",\"exercise induced angina\",\"bmi\",\"smoking_status, 1: formerly smoked, 2: never smoked, 3: smokes, 4: unknown\"]\n",
    "\n",
    "\n",
    "\n",
    "for i in range(len(info)):\n",
    "    print(dataset.columns[i]+\":\\t\\t\\t\"+info[i])"
   ]
  },
  {
   "cell_type": "code",
   "execution_count": 356,
   "id": "66204b7f",
   "metadata": {},
   "outputs": [
    {
     "data": {
      "text/plain": [
       "count    5110.000000\n",
       "mean        0.048728\n",
       "std         0.215320\n",
       "min         0.000000\n",
       "25%         0.000000\n",
       "50%         0.000000\n",
       "75%         0.000000\n",
       "max         1.000000\n",
       "Name: stroke, dtype: float64"
      ]
     },
     "execution_count": 356,
     "metadata": {},
     "output_type": "execute_result"
    }
   ],
   "source": [
    "dataset[\"stroke\"].describe()"
   ]
  },
  {
   "cell_type": "code",
   "execution_count": 357,
   "id": "652ef219",
   "metadata": {},
   "outputs": [
    {
     "data": {
      "text/plain": [
       "array([1, 0], dtype=int64)"
      ]
     },
     "execution_count": 357,
     "metadata": {},
     "output_type": "execute_result"
    }
   ],
   "source": [
    "dataset[\"stroke\"].unique()"
   ]
  },
  {
   "cell_type": "code",
   "execution_count": 358,
   "id": "ad96136d",
   "metadata": {},
   "outputs": [
    {
     "name": "stdout",
     "output_type": "stream",
     "text": [
      "stroke               1.000000\n",
      "age                  0.245257\n",
      "heart_disease        0.134914\n",
      "avg_glucose_level    0.131945\n",
      "hypertension         0.127904\n",
      "ever_married         0.108340\n",
      "smoking_status       0.066393\n",
      "work_type            0.058224\n",
      "bmi                  0.042374\n",
      "Residence_type       0.015458\n",
      "gender               0.008929\n",
      "id                   0.006388\n",
      "Name: stroke, dtype: float64\n"
     ]
    }
   ],
   "source": [
    "print(dataset.corr()[\"stroke\"].abs().sort_values(ascending=False))"
   ]
  },
  {
   "cell_type": "code",
   "execution_count": 359,
   "id": "161a1b11",
   "metadata": {},
   "outputs": [
    {
     "name": "stdout",
     "output_type": "stream",
     "text": [
      "0    4861\n",
      "1     249\n",
      "Name: stroke, dtype: int64\n"
     ]
    },
    {
     "data": {
      "image/png": "[encoded data removed]",
      "text/plain": [
       "<Figure size 432x288 with 1 Axes>"
      ]
     },
     "metadata": {
      "needs_background": "light"
     },
     "output_type": "display_data"
    }
   ],
   "source": [
    "y = dataset[\"stroke\"]\n",
    "\n",
    "sns.countplot(y)\n",
    "\n",
    "\n",
    "stroke_temp = dataset.stroke.value_counts()\n",
    "\n",
    "print(stroke_temp)"
   ]
  },
  {
   "cell_type": "code",
   "execution_count": 360,
   "id": "15ce107a",
   "metadata": {},
   "outputs": [
    {
     "name": "stdout",
     "output_type": "stream",
     "text": [
      "Percentage of patience without heart problems: 95.13\n",
      "Percentage of patience with heart problems: 4.87\n"
     ]
    }
   ],
   "source": [
    "print(\"Percentage of patience without heart problems: \"+str(round(stroke_temp[0]*100/5110,2)))\n",
    "print(\"Percentage of patience with heart problems: \"+str(round(stroke_temp[1]*100/5110,2)))\n",
    "\n",
    "#Alternatively,\n",
    "# print(\"Percentage of patience with heart problems: \"+str(y.where(y==1).count()*100/303))\n",
    "# print(\"Percentage of patience with heart problems: \"+str(y.where(y==0).count()*100/303))\n",
    "\n",
    "# #Or,\n",
    "# countNoDisease = len(df[df.stroke == 0])\n",
    "# countHaveDisease = len(df[df.stroke == 1])"
   ]
  },
  {
   "cell_type": "code",
   "execution_count": 361,
   "id": "650881eb",
   "metadata": {},
   "outputs": [
    {
     "data": {
      "text/plain": [
       "array([1, 0, 2], dtype=int64)"
      ]
     },
     "execution_count": 361,
     "metadata": {},
     "output_type": "execute_result"
    }
   ],
   "source": [
    "dataset[\"gender\"].unique()"
   ]
  },
  {
   "cell_type": "code",
   "execution_count": 362,
   "id": "687a9906",
   "metadata": {},
   "outputs": [
    {
     "data": {
      "text/plain": [
       "<AxesSubplot:xlabel='gender', ylabel='stroke'>"
      ]
     },
     "execution_count": 362,
     "metadata": {},
     "output_type": "execute_result"
    },
    {
     "data": {
      "image/png": "[encoded data removed]",
      "text/plain": [
       "<Figure size 432x288 with 1 Axes>"
      ]
     },
     "metadata": {
      "needs_background": "light"
     },
     "output_type": "display_data"
    }
   ],
   "source": [
    "sns.barplot(dataset[\"gender\"],y)"
   ]
  },
  {
   "cell_type": "code",
   "execution_count": null,
   "id": "a426dbaa",
   "metadata": {},
   "outputs": [],
   "source": []
  },
  {
   "cell_type": "code",
   "execution_count": 363,
   "id": "de9bf624",
   "metadata": {},
   "outputs": [
    {
     "data": {
      "application/vnd.plotly.v1+json": {
       "config": {
        "plotlyServerURL": "https://plot.ly"
       },
       "data": [
        {
         "domain": {
          "x": [
           0,
           0.45
          ],
          "y": [
           0,
           1
          ]
         },
         "hole": 0.3,
         "labels": [
          "<b>Female<b>",
          "<b>Male<b>",
          "<b>Other<b>"
         ],
         "marker": {
          "colors": [
           "pink",
           "lightblue",
           "green"
          ]
         },
         "pull": [
          0,
          0.08,
          0.3
         ],
         "textposition": "inside",
         "type": "pie",
         "values": [
          2994,
          2115,
          1
         ]
        },
        {
         "marker": {
          "color": "pink"
         },
         "name": "Female Ages",
         "type": "histogram",
         "x": [],
         "xaxis": "x",
         "yaxis": "y"
        },
        {
         "marker": {
          "color": "lightblue"
         },
         "name": "Male Ages",
         "type": "histogram",
         "x": [],
         "xaxis": "x2",
         "yaxis": "y2"
        }
       ],
       "layout": {
        "annotations": [
         {
          "font": {
           "size": 16
          },
          "showarrow": false,
          "text": "<b>Distribution Of Female Ages<b>",
          "x": 0.775,
          "xanchor": "center",
          "xref": "paper",
          "y": 1,
          "yanchor": "bottom",
          "yref": "paper"
         },
         {
          "font": {
           "size": 16
          },
          "showarrow": false,
          "text": "<b>Distribution Of Male Ages<b>",
          "x": 0.775,
          "xanchor": "center",
          "xref": "paper",
          "y": 0.455,
          "yanchor": "bottom",
          "yref": "paper"
         }
        ],
        "height": 800,
        "showlegend": true,
        "template": {
         "data": {
          "bar": [
           {
            "error_x": {
             "color": "#2a3f5f"
            },
            "error_y": {
             "color": "#2a3f5f"
            },
            "marker": {
             "line": {
              "color": "#E5ECF6",
              "width": 0.5
             },
             "pattern": {
              "fillmode": "overlay",
              "size": 10,
              "solidity": 0.2
             }
            },
            "type": "bar"
           }
          ],
          "barpolar": [
           {
            "marker": {
             "line": {
              "color": "#E5ECF6",
              "width": 0.5
             },
             "pattern": {
              "fillmode": "overlay",
              "size": 10,
              "solidity": 0.2
             }
            },
            "type": "barpolar"
           }
          ],
          "carpet": [
           {
            "aaxis": {
             "endlinecolor": "#2a3f5f",
             "gridcolor": "white",
             "linecolor": "white",
             "minorgridcolor": "white",
             "startlinecolor": "#2a3f5f"
            },
            "baxis": {
             "endlinecolor": "#2a3f5f",
             "gridcolor": "white",
             "linecolor": "white",
             "minorgridcolor": "white",
             "startlinecolor": "#2a3f5f"
            },
            "type": "carpet"
           }
          ],
          "choropleth": [
           {
            "colorbar": {
             "outlinewidth": 0,
             "ticks": ""
            },
            "type": "choropleth"
           }
          ],
          "contour": [
           {
            "colorbar": {
             "outlinewidth": 0,
             "ticks": ""
            },
            "colorscale": [
             [
              0,
              "#0d0887"
             ],
             [
              0.1111111111111111,
              "#46039f"
             ],
             [
              0.2222222222222222,
              "#7201a8"
             ],
             [
              0.3333333333333333,
              "#9c179e"
             ],
             [
              0.4444444444444444,
              "#bd3786"
             ],
             [
              0.5555555555555556,
              "#d8576b"
             ],
             [
              0.6666666666666666,
              "#ed7953"
             ],
             [
              0.7777777777777778,
              "#fb9f3a"
             ],
             [
              0.8888888888888888,
              "#fdca26"
             ],
             [
              1,
              "#f0f921"
             ]
            ],
            "type": "contour"
           }
          ],
          "contourcarpet": [
           {
            "colorbar": {
             "outlinewidth": 0,
             "ticks": ""
            },
            "type": "contourcarpet"
           }
          ],
          "heatmap": [
           {
            "colorbar": {
             "outlinewidth": 0,
             "ticks": ""
            },
            "colorscale": [
             [
              0,
              "#0d0887"
             ],
             [
              0.1111111111111111,
              "#46039f"
             ],
             [
              0.2222222222222222,
              "#7201a8"
             ],
             [
              0.3333333333333333,
              "#9c179e"
             ],
             [
              0.4444444444444444,
              "#bd3786"
             ],
             [
              0.5555555555555556,
              "#d8576b"
             ],
             [
              0.6666666666666666,
              "#ed7953"
             ],
             [
              0.7777777777777778,
              "#fb9f3a"
             ],
             [
              0.8888888888888888,
              "#fdca26"
             ],
             [
              1,
              "#f0f921"
             ]
            ],
            "type": "heatmap"
           }
          ],
          "heatmapgl": [
           {
            "colorbar": {
             "outlinewidth": 0,
             "ticks": ""
            },
            "colorscale": [
             [
              0,
              "#0d0887"
             ],
             [
              0.1111111111111111,
              "#46039f"
             ],
             [
              0.2222222222222222,
              "#7201a8"
             ],
             [
              0.3333333333333333,
              "#9c179e"
             ],
             [
              0.4444444444444444,
              "#bd3786"
             ],
             [
              0.5555555555555556,
              "#d8576b"
             ],
             [
              0.6666666666666666,
              "#ed7953"
             ],
             [
              0.7777777777777778,
              "#fb9f3a"
             ],
             [
              0.8888888888888888,
              "#fdca26"
             ],
             [
              1,
              "#f0f921"
             ]
            ],
            "type": "heatmapgl"
           }
          ],
          "histogram": [
           {
            "marker": {
             "pattern": {
              "fillmode": "overlay",
              "size": 10,
              "solidity": 0.2
             }
            },
            "type": "histogram"
           }
          ],
          "histogram2d": [
           {
            "colorbar": {
             "outlinewidth": 0,
             "ticks": ""
            },
            "colorscale": [
             [
              0,
              "#0d0887"
             ],
             [
              0.1111111111111111,
              "#46039f"
             ],
             [
              0.2222222222222222,
              "#7201a8"
             ],
             [
              0.3333333333333333,
              "#9c179e"
             ],
             [
              0.4444444444444444,
              "#bd3786"
             ],
             [
              0.5555555555555556,
              "#d8576b"
             ],
             [
              0.6666666666666666,
              "#ed7953"
             ],
             [
              0.7777777777777778,
              "#fb9f3a"
             ],
             [
              0.8888888888888888,
              "#fdca26"
             ],
             [
              1,
              "#f0f921"
             ]
            ],
            "type": "histogram2d"
           }
          ],
          "histogram2dcontour": [
           {
            "colorbar": {
             "outlinewidth": 0,
             "ticks": ""
            },
            "colorscale": [
             [
              0,
              "#0d0887"
             ],
             [
              0.1111111111111111,
              "#46039f"
             ],
             [
              0.2222222222222222,
              "#7201a8"
             ],
             [
              0.3333333333333333,
              "#9c179e"
             ],
             [
              0.4444444444444444,
              "#bd3786"
             ],
             [
              0.5555555555555556,
              "#d8576b"
             ],
             [
              0.6666666666666666,
              "#ed7953"
             ],
             [
              0.7777777777777778,
              "#fb9f3a"
             ],
             [
              0.8888888888888888,
              "#fdca26"
             ],
             [
              1,
              "#f0f921"
             ]
            ],
            "type": "histogram2dcontour"
           }
          ],
          "mesh3d": [
           {
            "colorbar": {
             "outlinewidth": 0,
             "ticks": ""
            },
            "type": "mesh3d"
           }
          ],
          "parcoords": [
           {
            "line": {
             "colorbar": {
              "outlinewidth": 0,
              "ticks": ""
             }
            },
            "type": "parcoords"
           }
          ],
          "pie": [
           {
            "automargin": true,
            "type": "pie"
           }
          ],
          "scatter": [
           {
            "marker": {
             "colorbar": {
              "outlinewidth": 0,
              "ticks": ""
             }
            },
            "type": "scatter"
           }
          ],
          "scatter3d": [
           {
            "line": {
             "colorbar": {
              "outlinewidth": 0,
              "ticks": ""
             }
            },
            "marker": {
             "colorbar": {
              "outlinewidth": 0,
              "ticks": ""
             }
            },
            "type": "scatter3d"
           }
          ],
          "scattercarpet": [
           {
            "marker": {
             "colorbar": {
              "outlinewidth": 0,
              "ticks": ""
             }
            },
            "type": "scattercarpet"
           }
          ],
          "scattergeo": [
           {
            "marker": {
             "colorbar": {
              "outlinewidth": 0,
              "ticks": ""
             }
            },
            "type": "scattergeo"
           }
          ],
          "scattergl": [
           {
            "marker": {
             "colorbar": {
              "outlinewidth": 0,
              "ticks": ""
             }
            },
            "type": "scattergl"
           }
          ],
          "scattermapbox": [
           {
            "marker": {
             "colorbar": {
              "outlinewidth": 0,
              "ticks": ""
             }
            },
            "type": "scattermapbox"
           }
          ],
          "scatterpolar": [
           {
            "marker": {
             "colorbar": {
              "outlinewidth": 0,
              "ticks": ""
             }
            },
            "type": "scatterpolar"
           }
          ],
          "scatterpolargl": [
           {
            "marker": {
             "colorbar": {
              "outlinewidth": 0,
              "ticks": ""
             }
            },
            "type": "scatterpolargl"
           }
          ],
          "scatterternary": [
           {
            "marker": {
             "colorbar": {
              "outlinewidth": 0,
              "ticks": ""
             }
            },
            "type": "scatterternary"
           }
          ],
          "surface": [
           {
            "colorbar": {
             "outlinewidth": 0,
             "ticks": ""
            },
            "colorscale": [
             [
              0,
              "#0d0887"
             ],
             [
              0.1111111111111111,
              "#46039f"
             ],
             [
              0.2222222222222222,
              "#7201a8"
             ],
             [
              0.3333333333333333,
              "#9c179e"
             ],
             [
              0.4444444444444444,
              "#bd3786"
             ],
             [
              0.5555555555555556,
              "#d8576b"
             ],
             [
              0.6666666666666666,
              "#ed7953"
             ],
             [
              0.7777777777777778,
              "#fb9f3a"
             ],
             [
              0.8888888888888888,
              "#fdca26"
             ],
             [
              1,
              "#f0f921"
             ]
            ],
            "type": "surface"
           }
          ],
          "table": [
           {
            "cells": {
             "fill": {
              "color": "#EBF0F8"
             },
             "line": {
              "color": "white"
             }
            },
            "header": {
             "fill": {
              "color": "#C8D4E3"
             },
             "line": {
              "color": "white"
             }
            },
            "type": "table"
           }
          ]
         },
         "layout": {
          "annotationdefaults": {
           "arrowcolor": "#2a3f5f",
           "arrowhead": 0,
           "arrowwidth": 1
          },
          "autotypenumbers": "strict",
          "coloraxis": {
           "colorbar": {
            "outlinewidth": 0,
            "ticks": ""
           }
          },
          "colorscale": {
           "diverging": [
            [
             0,
             "#8e0152"
            ],
            [
             0.1,
             "#c51b7d"
            ],
            [
             0.2,
             "#de77ae"
            ],
            [
             0.3,
             "#f1b6da"
            ],
            [
             0.4,
             "#fde0ef"
            ],
            [
             0.5,
             "#f7f7f7"
            ],
            [
             0.6,
             "#e6f5d0"
            ],
            [
             0.7,
             "#b8e186"
            ],
            [
             0.8,
             "#7fbc41"
            ],
            [
             0.9,
             "#4d9221"
            ],
            [
             1,
             "#276419"
            ]
           ],
           "sequential": [
            [
             0,
             "#0d0887"
            ],
            [
             0.1111111111111111,
             "#46039f"
            ],
            [
             0.2222222222222222,
             "#7201a8"
            ],
            [
             0.3333333333333333,
             "#9c179e"
            ],
            [
             0.4444444444444444,
             "#bd3786"
            ],
            [
             0.5555555555555556,
             "#d8576b"
            ],
            [
             0.6666666666666666,
             "#ed7953"
            ],
            [
             0.7777777777777778,
             "#fb9f3a"
            ],
            [
             0.8888888888888888,
             "#fdca26"
            ],
            [
             1,
             "#f0f921"
            ]
           ],
           "sequentialminus": [
            [
             0,
             "#0d0887"
            ],
            [
             0.1111111111111111,
             "#46039f"
            ],
            [
             0.2222222222222222,
             "#7201a8"
            ],
            [
             0.3333333333333333,
             "#9c179e"
            ],
            [
             0.4444444444444444,
             "#bd3786"
            ],
            [
             0.5555555555555556,
             "#d8576b"
            ],
            [
             0.6666666666666666,
             "#ed7953"
            ],
            [
             0.7777777777777778,
             "#fb9f3a"
            ],
            [
             0.8888888888888888,
             "#fdca26"
            ],
            [
             1,
             "#f0f921"
            ]
           ]
          },
          "colorway": [
           "#636efa",
           "#EF553B",
           "#00cc96",
           "#ab63fa",
           "#FFA15A",
           "#19d3f3",
           "#FF6692",
           "#B6E880",
           "#FF97FF",
           "#FECB52"
          ],
          "font": {
           "color": "#2a3f5f"
          },
          "geo": {
           "bgcolor": "white",
           "lakecolor": "white",
           "landcolor": "#E5ECF6",
           "showlakes": true,
           "showland": true,
           "subunitcolor": "white"
          },
          "hoverlabel": {
           "align": "left"
          },
          "hovermode": "closest",
          "mapbox": {
           "style": "light"
          },
          "paper_bgcolor": "white",
          "plot_bgcolor": "#E5ECF6",
          "polar": {
           "angularaxis": {
            "gridcolor": "white",
            "linecolor": "white",
            "ticks": ""
           },
           "bgcolor": "#E5ECF6",
           "radialaxis": {
            "gridcolor": "white",
            "linecolor": "white",
            "ticks": ""
           }
          },
          "scene": {
           "xaxis": {
            "backgroundcolor": "#E5ECF6",
            "gridcolor": "white",
            "gridwidth": 2,
            "linecolor": "white",
            "showbackground": true,
            "ticks": "",
            "zerolinecolor": "white"
           },
           "yaxis": {
            "backgroundcolor": "#E5ECF6",
            "gridcolor": "white",
            "gridwidth": 2,
            "linecolor": "white",
            "showbackground": true,
            "ticks": "",
            "zerolinecolor": "white"
           },
           "zaxis": {
            "backgroundcolor": "#E5ECF6",
            "gridcolor": "white",
            "gridwidth": 2,
            "linecolor": "white",
            "showbackground": true,
            "ticks": "",
            "zerolinecolor": "white"
           }
          },
          "shapedefaults": {
           "line": {
            "color": "#2a3f5f"
           }
          },
          "ternary": {
           "aaxis": {
            "gridcolor": "white",
            "linecolor": "white",
            "ticks": ""
           },
           "baxis": {
            "gridcolor": "white",
            "linecolor": "white",
            "ticks": ""
           },
           "bgcolor": "#E5ECF6",
           "caxis": {
            "gridcolor": "white",
            "linecolor": "white",
            "ticks": ""
           }
          },
          "title": {
           "x": 0.05
          },
          "xaxis": {
           "automargin": true,
           "gridcolor": "white",
           "linecolor": "white",
           "ticks": "",
           "title": {
            "standoff": 15
           },
           "zerolinecolor": "white",
           "zerolinewidth": 2
          },
          "yaxis": {
           "automargin": true,
           "gridcolor": "white",
           "linecolor": "white",
           "ticks": "",
           "title": {
            "standoff": 15
           },
           "zerolinecolor": "white",
           "zerolinewidth": 2
          }
         }
        },
        "title": {
         "text": "<b>Age-Sex Infrence<b>"
        },
        "xaxis": {
         "anchor": "y",
         "domain": [
          0.55,
          1
         ]
        },
        "xaxis2": {
         "anchor": "y2",
         "domain": [
          0.55,
          1
         ]
        },
        "yaxis": {
         "anchor": "x",
         "domain": [
          0.545,
          1
         ]
        },
        "yaxis2": {
         "anchor": "x2",
         "domain": [
          0,
          0.455
         ]
        }
       }
      },
      "text/html": [
       "<div>                            <div id=\"c31b158f-1a03-4fe1-af38-1a6b4af128d7\" class=\"plotly-graph-div\" style=\"height:800px; width:100%;\"></div>            <script type=\"text/javascript\">                require([\"plotly\"], function(Plotly) {                    window.PLOTLYENV=window.PLOTLYENV || {};                                    if (document.getElementById(\"c31b158f-1a03-4fe1-af38-1a6b4af128d7\")) {                    Plotly.newPlot(                        \"c31b158f-1a03-4fe1-af38-1a6b4af128d7\",                        [{\"hole\":0.3,\"labels\":[\"<b>Female<b>\",\"<b>Male<b>\",\"<b>Other<b>\"],\"marker\":{\"colors\":[\"pink\",\"lightblue\",\"green\"]},\"pull\":[0,0.08,0.3],\"textposition\":\"inside\",\"values\":[2994,2115,1],\"type\":\"pie\",\"domain\":{\"x\":[0.0,0.45],\"y\":[0.0,1.0]}},{\"marker\":{\"color\":\"pink\"},\"name\":\"Female Ages\",\"x\":[],\"type\":\"histogram\",\"xaxis\":\"x\",\"yaxis\":\"y\"},{\"marker\":{\"color\":\"lightblue\"},\"name\":\"Male Ages\",\"x\":[],\"type\":\"histogram\",\"xaxis\":\"x2\",\"yaxis\":\"y2\"}],                        {\"template\":{\"data\":{\"bar\":[{\"error_x\":{\"color\":\"#2a3f5f\"},\"error_y\":{\"color\":\"#2a3f5f\"},\"marker\":{\"line\":{\"color\":\"#E5ECF6\",\"width\":0.5},\"pattern\":{\"fillmode\":\"overlay\",\"size\":10,\"solidity\":0.2}},\"type\":\"bar\"}],\"barpolar\":[{\"marker\":{\"line\":{\"color\":\"#E5ECF6\",\"width\":0.5},\"pattern\":{\"fillmode\":\"overlay\",\"size\":10,\"solidity\":0.2}},\"type\":\"barpolar\"}],\"carpet\":[{\"aaxis\":{\"endlinecolor\":\"#2a3f5f\",\"gridcolor\":\"white\",\"linecolor\":\"white\",\"minorgridcolor\":\"white\",\"startlinecolor\":\"#2a3f5f\"},\"baxis\":{\"endlinecolor\":\"#2a3f5f\",\"gridcolor\":\"white\",\"linecolor\":\"white\",\"minorgridcolor\":\"white\",\"startlinecolor\":\"#2a3f5f\"},\"type\":\"carpet\"}],\"choropleth\":[{\"colorbar\":{\"outlinewidth\":0,\"ticks\":\"\"},\"type\":\"choropleth\"}],\"contour\":[{\"colorbar\":{\"outlinewidth\":0,\"ticks\":\"\"},\"colorscale\":[[0.0,\"#0d0887\"],[0.1111111111111111,\"#46039f\"],[0.2222222222222222,\"#7201a8\"],[0.3333333333333333,\"#9c179e\"],[0.4444444444444444,\"#bd3786\"],[0.5555555555555556,\"#d8576b\"],[0.6666666666666666,\"#ed7953\"],[0.7777777777777778,\"#fb9f3a\"],[0.8888888888888888,\"#fdca26\"],[1.0,\"#f0f921\"]],\"type\":\"contour\"}],\"contourcarpet\":[{\"colorbar\":{\"outlinewidth\":0,\"ticks\":\"\"},\"type\":\"contourcarpet\"}],\"heatmap\":[{\"colorbar\":{\"outlinewidth\":0,\"ticks\":\"\"},\"colorscale\":[[0.0,\"#0d0887\"],[0.1111111111111111,\"#46039f\"],[0.2222222222222222,\"#7201a8\"],[0.3333333333333333,\"#9c179e\"],[0.4444444444444444,\"#bd3786\"],[0.5555555555555556,\"#d8576b\"],[0.6666666666666666,\"#ed7953\"],[0.7777777777777778,\"#fb9f3a\"],[0.8888888888888888,\"#fdca26\"],[1.0,\"#f0f921\"]],\"type\":\"heatmap\"}],\"heatmapgl\":[{\"colorbar\":{\"outlinewidth\":0,\"ticks\":\"\"},\"colorscale\":[[0.0,\"#0d0887\"],[0.1111111111111111,\"#46039f\"],[0.2222222222222222,\"#7201a8\"],[0.3333333333333333,\"#9c179e\"],[0.4444444444444444,\"#bd3786\"],[0.5555555555555556,\"#d8576b\"],[0.6666666666666666,\"#ed7953\"],[0.7777777777777778,\"#fb9f3a\"],[0.8888888888888888,\"#fdca26\"],[1.0,\"#f0f921\"]],\"type\":\"heatmapgl\"}],\"histogram\":[{\"marker\":{\"pattern\":{\"fillmode\":\"overlay\",\"size\":10,\"solidity\":0.2}},\"type\":\"histogram\"}],\"histogram2d\":[{\"colorbar\":{\"outlinewidth\":0,\"ticks\":\"\"},\"colorscale\":[[0.0,\"#0d0887\"],[0.1111111111111111,\"#46039f\"],[0.2222222222222222,\"#7201a8\"],[0.3333333333333333,\"#9c179e\"],[0.4444444444444444,\"#bd3786\"],[0.5555555555555556,\"#d8576b\"],[0.6666666666666666,\"#ed7953\"],[0.7777777777777778,\"#fb9f3a\"],[0.8888888888888888,\"#fdca26\"],[1.0,\"#f0f921\"]],\"type\":\"histogram2d\"}],\"histogram2dcontour\":[{\"colorbar\":{\"outlinewidth\":0,\"ticks\":\"\"},\"colorscale\":[[0.0,\"#0d0887\"],[0.1111111111111111,\"#46039f\"],[0.2222222222222222,\"#7201a8\"],[0.3333333333333333,\"#9c179e\"],[0.4444444444444444,\"#bd3786\"],[0.5555555555555556,\"#d8576b\"],[0.6666666666666666,\"#ed7953\"],[0.7777777777777778,\"#fb9f3a\"],[0.8888888888888888,\"#fdca26\"],[1.0,\"#f0f921\"]],\"type\":\"histogram2dcontour\"}],\"mesh3d\":[{\"colorbar\":{\"outlinewidth\":0,\"ticks\":\"\"},\"type\":\"mesh3d\"}],\"parcoords\":[{\"line\":{\"colorbar\":{\"outlinewidth\":0,\"ticks\":\"\"}},\"type\":\"parcoords\"}],\"pie\":[{\"automargin\":true,\"type\":\"pie\"}],\"scatter\":[{\"marker\":{\"colorbar\":{\"outlinewidth\":0,\"ticks\":\"\"}},\"type\":\"scatter\"}],\"scatter3d\":[{\"line\":{\"colorbar\":{\"outlinewidth\":0,\"ticks\":\"\"}},\"marker\":{\"colorbar\":{\"outlinewidth\":0,\"ticks\":\"\"}},\"type\":\"scatter3d\"}],\"scattercarpet\":[{\"marker\":{\"colorbar\":{\"outlinewidth\":0,\"ticks\":\"\"}},\"type\":\"scattercarpet\"}],\"scattergeo\":[{\"marker\":{\"colorbar\":{\"outlinewidth\":0,\"ticks\":\"\"}},\"type\":\"scattergeo\"}],\"scattergl\":[{\"marker\":{\"colorbar\":{\"outlinewidth\":0,\"ticks\":\"\"}},\"type\":\"scattergl\"}],\"scattermapbox\":[{\"marker\":{\"colorbar\":{\"outlinewidth\":0,\"ticks\":\"\"}},\"type\":\"scattermapbox\"}],\"scatterpolar\":[{\"marker\":{\"colorbar\":{\"outlinewidth\":0,\"ticks\":\"\"}},\"type\":\"scatterpolar\"}],\"scatterpolargl\":[{\"marker\":{\"colorbar\":{\"outlinewidth\":0,\"ticks\":\"\"}},\"type\":\"scatterpolargl\"}],\"scatterternary\":[{\"marker\":{\"colorbar\":{\"outlinewidth\":0,\"ticks\":\"\"}},\"type\":\"scatterternary\"}],\"surface\":[{\"colorbar\":{\"outlinewidth\":0,\"ticks\":\"\"},\"colorscale\":[[0.0,\"#0d0887\"],[0.1111111111111111,\"#46039f\"],[0.2222222222222222,\"#7201a8\"],[0.3333333333333333,\"#9c179e\"],[0.4444444444444444,\"#bd3786\"],[0.5555555555555556,\"#d8576b\"],[0.6666666666666666,\"#ed7953\"],[0.7777777777777778,\"#fb9f3a\"],[0.8888888888888888,\"#fdca26\"],[1.0,\"#f0f921\"]],\"type\":\"surface\"}],\"table\":[{\"cells\":{\"fill\":{\"color\":\"#EBF0F8\"},\"line\":{\"color\":\"white\"}},\"header\":{\"fill\":{\"color\":\"#C8D4E3\"},\"line\":{\"color\":\"white\"}},\"type\":\"table\"}]},\"layout\":{\"annotationdefaults\":{\"arrowcolor\":\"#2a3f5f\",\"arrowhead\":0,\"arrowwidth\":1},\"autotypenumbers\":\"strict\",\"coloraxis\":{\"colorbar\":{\"outlinewidth\":0,\"ticks\":\"\"}},\"colorscale\":{\"diverging\":[[0,\"#8e0152\"],[0.1,\"#c51b7d\"],[0.2,\"#de77ae\"],[0.3,\"#f1b6da\"],[0.4,\"#fde0ef\"],[0.5,\"#f7f7f7\"],[0.6,\"#e6f5d0\"],[0.7,\"#b8e186\"],[0.8,\"#7fbc41\"],[0.9,\"#4d9221\"],[1,\"#276419\"]],\"sequential\":[[0.0,\"#0d0887\"],[0.1111111111111111,\"#46039f\"],[0.2222222222222222,\"#7201a8\"],[0.3333333333333333,\"#9c179e\"],[0.4444444444444444,\"#bd3786\"],[0.5555555555555556,\"#d8576b\"],[0.6666666666666666,\"#ed7953\"],[0.7777777777777778,\"#fb9f3a\"],[0.8888888888888888,\"#fdca26\"],[1.0,\"#f0f921\"]],\"sequentialminus\":[[0.0,\"#0d0887\"],[0.1111111111111111,\"#46039f\"],[0.2222222222222222,\"#7201a8\"],[0.3333333333333333,\"#9c179e\"],[0.4444444444444444,\"#bd3786\"],[0.5555555555555556,\"#d8576b\"],[0.6666666666666666,\"#ed7953\"],[0.7777777777777778,\"#fb9f3a\"],[0.8888888888888888,\"#fdca26\"],[1.0,\"#f0f921\"]]},\"colorway\":[\"#636efa\",\"#EF553B\",\"#00cc96\",\"#ab63fa\",\"#FFA15A\",\"#19d3f3\",\"#FF6692\",\"#B6E880\",\"#FF97FF\",\"#FECB52\"],\"font\":{\"color\":\"#2a3f5f\"},\"geo\":{\"bgcolor\":\"white\",\"lakecolor\":\"white\",\"landcolor\":\"#E5ECF6\",\"showlakes\":true,\"showland\":true,\"subunitcolor\":\"white\"},\"hoverlabel\":{\"align\":\"left\"},\"hovermode\":\"closest\",\"mapbox\":{\"style\":\"light\"},\"paper_bgcolor\":\"white\",\"plot_bgcolor\":\"#E5ECF6\",\"polar\":{\"angularaxis\":{\"gridcolor\":\"white\",\"linecolor\":\"white\",\"ticks\":\"\"},\"bgcolor\":\"#E5ECF6\",\"radialaxis\":{\"gridcolor\":\"white\",\"linecolor\":\"white\",\"ticks\":\"\"}},\"scene\":{\"xaxis\":{\"backgroundcolor\":\"#E5ECF6\",\"gridcolor\":\"white\",\"gridwidth\":2,\"linecolor\":\"white\",\"showbackground\":true,\"ticks\":\"\",\"zerolinecolor\":\"white\"},\"yaxis\":{\"backgroundcolor\":\"#E5ECF6\",\"gridcolor\":\"white\",\"gridwidth\":2,\"linecolor\":\"white\",\"showbackground\":true,\"ticks\":\"\",\"zerolinecolor\":\"white\"},\"zaxis\":{\"backgroundcolor\":\"#E5ECF6\",\"gridcolor\":\"white\",\"gridwidth\":2,\"linecolor\":\"white\",\"showbackground\":true,\"ticks\":\"\",\"zerolinecolor\":\"white\"}},\"shapedefaults\":{\"line\":{\"color\":\"#2a3f5f\"}},\"ternary\":{\"aaxis\":{\"gridcolor\":\"white\",\"linecolor\":\"white\",\"ticks\":\"\"},\"baxis\":{\"gridcolor\":\"white\",\"linecolor\":\"white\",\"ticks\":\"\"},\"bgcolor\":\"#E5ECF6\",\"caxis\":{\"gridcolor\":\"white\",\"linecolor\":\"white\",\"ticks\":\"\"}},\"title\":{\"x\":0.05},\"xaxis\":{\"automargin\":true,\"gridcolor\":\"white\",\"linecolor\":\"white\",\"ticks\":\"\",\"title\":{\"standoff\":15},\"zerolinecolor\":\"white\",\"zerolinewidth\":2},\"yaxis\":{\"automargin\":true,\"gridcolor\":\"white\",\"linecolor\":\"white\",\"ticks\":\"\",\"title\":{\"standoff\":15},\"zerolinecolor\":\"white\",\"zerolinewidth\":2}}},\"xaxis\":{\"anchor\":\"y\",\"domain\":[0.55,1.0]},\"yaxis\":{\"anchor\":\"x\",\"domain\":[0.545,1.0]},\"xaxis2\":{\"anchor\":\"y2\",\"domain\":[0.55,1.0]},\"yaxis2\":{\"anchor\":\"x2\",\"domain\":[0.0,0.455]},\"annotations\":[{\"font\":{\"size\":16},\"showarrow\":false,\"text\":\"<b>Distribution Of Female Ages<b>\",\"x\":0.775,\"xanchor\":\"center\",\"xref\":\"paper\",\"y\":1.0,\"yanchor\":\"bottom\",\"yref\":\"paper\"},{\"font\":{\"size\":16},\"showarrow\":false,\"text\":\"<b>Distribution Of Male Ages<b>\",\"x\":0.775,\"xanchor\":\"center\",\"xref\":\"paper\",\"y\":0.455,\"yanchor\":\"bottom\",\"yref\":\"paper\"}],\"title\":{\"text\":\"<b>Age-Sex Infrence<b>\"},\"height\":800,\"showlegend\":true},                        {\"responsive\": true}                    ).then(function(){\n",
       "                            \n",
       "var gd = document.getElementById('c31b158f-1a03-4fe1-af38-1a6b4af128d7');\n",
       "var x = new MutationObserver(function (mutations, observer) {{\n",
       "        var display = window.getComputedStyle(gd).display;\n",
       "        if (!display || display === 'none') {{\n",
       "            console.log([gd, 'removed!']);\n",
       "            Plotly.purge(gd);\n",
       "            observer.disconnect();\n",
       "        }}\n",
       "}});\n",
       "\n",
       "// Listen for the removal of the full notebook cells\n",
       "var notebookContainer = gd.closest('#notebook-container');\n",
       "if (notebookContainer) {{\n",
       "    x.observe(notebookContainer, {childList: true});\n",
       "}}\n",
       "\n",
       "// Listen for the clearing of the current output cell\n",
       "var outputEl = gd.closest('.output');\n",
       "if (outputEl) {{\n",
       "    x.observe(outputEl, {childList: true});\n",
       "}}\n",
       "\n",
       "                        })                };                });            </script>        </div>"
      ]
     },
     "metadata": {},
     "output_type": "display_data"
    }
   ],
   "source": [
    "#I will complete this\n",
    "from plotly.subplots import make_subplots\n",
    "import plotly.express as ex\n",
    "import plotly.graph_objs as go\n",
    "import plotly.offline as pyo\n",
    "from plotly.subplots import make_subplots\n",
    "import plotly.figure_factory as ff\n",
    "fig = make_subplots(\n",
    "    rows=2, cols=2,subplot_titles=('','<b>Distribution Of Female Ages<b>','<b>Distribution Of Male Ages<b>','Residuals'),\n",
    "    vertical_spacing=0.09,\n",
    "    specs=[[{\"type\": \"pie\",\"rowspan\": 2}       ,{\"type\": \"histogram\"}] ,\n",
    "           [None                               ,{\"type\": \"histogram\"}]            ,                                      \n",
    "          ]\n",
    ")\n",
    "\n",
    "fig.add_trace(\n",
    "    go.Pie(values=dataset.gender.value_counts().values,labels=['<b>Female<b>','<b>Male<b>','<b>Other<b>'],hole=0.3,pull=[0,0.08,0.3],marker_colors=['pink','lightblue','green'],textposition='inside'),\n",
    "    row=1, col=1\n",
    ")\n",
    "\n",
    "fig.add_trace(\n",
    "    go.Histogram(\n",
    "        x=dataset.query('gender==\"0\"').age,marker= dict(color='pink'),name='Female Ages'\n",
    "    ),\n",
    "    row=1, col=2\n",
    ")\n",
    "\n",
    "\n",
    "fig.add_trace(\n",
    "    go.Histogram(\n",
    "        x=dataset.query('gender==\"1\"').age,marker= dict(color='lightblue'),name='Male Ages'\n",
    "    ),\n",
    "    row=2, col=2\n",
    ")\n",
    "\n",
    "\n",
    "fig.update_layout(\n",
    "    height=800,\n",
    "    showlegend=True,\n",
    "    title_text=\"<b>Age-Sex Infrence<b>\",\n",
    ")\n",
    "\n",
    "fig.show()"
   ]
  },
  {
   "cell_type": "code",
   "execution_count": null,
   "id": "72d771c5",
   "metadata": {},
   "outputs": [],
   "source": []
  },
  {
   "cell_type": "code",
   "execution_count": 364,
   "id": "064e975b",
   "metadata": {},
   "outputs": [
    {
     "data": {
      "text/plain": [
       "array([6.70e+01, 6.10e+01, 8.00e+01, 4.90e+01, 7.90e+01, 8.10e+01,\n",
       "       7.40e+01, 6.90e+01, 5.90e+01, 7.80e+01, 5.40e+01, 5.00e+01,\n",
       "       6.40e+01, 7.50e+01, 6.00e+01, 5.70e+01, 7.10e+01, 5.20e+01,\n",
       "       8.20e+01, 6.50e+01, 5.80e+01, 4.20e+01, 4.80e+01, 7.20e+01,\n",
       "       6.30e+01, 7.60e+01, 3.90e+01, 7.70e+01, 7.30e+01, 5.60e+01,\n",
       "       4.50e+01, 7.00e+01, 6.60e+01, 5.10e+01, 4.30e+01, 6.80e+01,\n",
       "       4.70e+01, 5.30e+01, 3.80e+01, 5.50e+01, 1.32e+00, 4.60e+01,\n",
       "       3.20e+01, 1.40e+01, 3.00e+00, 8.00e+00, 3.70e+01, 4.00e+01,\n",
       "       3.50e+01, 2.00e+01, 4.40e+01, 2.50e+01, 2.70e+01, 2.30e+01,\n",
       "       1.70e+01, 1.30e+01, 4.00e+00, 1.60e+01, 2.20e+01, 3.00e+01,\n",
       "       2.90e+01, 1.10e+01, 2.10e+01, 1.80e+01, 3.30e+01, 2.40e+01,\n",
       "       3.40e+01, 3.60e+01, 6.40e-01, 4.10e+01, 8.80e-01, 5.00e+00,\n",
       "       2.60e+01, 3.10e+01, 7.00e+00, 1.20e+01, 6.20e+01, 2.00e+00,\n",
       "       9.00e+00, 1.50e+01, 2.80e+01, 1.00e+01, 1.80e+00, 3.20e-01,\n",
       "       1.08e+00, 1.90e+01, 6.00e+00, 1.16e+00, 1.00e+00, 1.40e+00,\n",
       "       1.72e+00, 2.40e-01, 1.64e+00, 1.56e+00, 7.20e-01, 1.88e+00,\n",
       "       1.24e+00, 8.00e-01, 4.00e-01, 8.00e-02, 1.48e+00, 5.60e-01,\n",
       "       4.80e-01, 1.60e-01])"
      ]
     },
     "execution_count": 364,
     "metadata": {},
     "output_type": "execute_result"
    }
   ],
   "source": [
    "dataset[\"age\"].unique()"
   ]
  },
  {
   "cell_type": "code",
   "execution_count": 365,
   "id": "c6443ae2",
   "metadata": {},
   "outputs": [
    {
     "data": {
      "text/plain": [
       "<AxesSubplot:xlabel='age', ylabel='stroke'>"
      ]
     },
     "execution_count": 365,
     "metadata": {},
     "output_type": "execute_result"
    },
    {
     "data": {
      "image/png": "[encoded data removed]",
      "text/plain": [
       "<Figure size 432x288 with 1 Axes>"
      ]
     },
     "metadata": {
      "needs_background": "light"
     },
     "output_type": "display_data"
    }
   ],
   "source": [
    "sns.barplot(dataset[\"age\"],y)"
   ]
  },
  {
   "cell_type": "code",
   "execution_count": 366,
   "id": "b004ff92",
   "metadata": {},
   "outputs": [
    {
     "data": {
      "text/plain": [
       "count    5110.000000\n",
       "mean        0.097456\n",
       "std         0.296607\n",
       "min         0.000000\n",
       "25%         0.000000\n",
       "50%         0.000000\n",
       "75%         0.000000\n",
       "max         1.000000\n",
       "Name: hypertension, dtype: float64"
      ]
     },
     "execution_count": 366,
     "metadata": {},
     "output_type": "execute_result"
    }
   ],
   "source": [
    "dataset[\"hypertension\"].describe()"
   ]
  },
  {
   "cell_type": "code",
   "execution_count": 367,
   "id": "73f3a7bd",
   "metadata": {},
   "outputs": [
    {
     "data": {
      "text/plain": [
       "array([0, 1], dtype=int64)"
      ]
     },
     "execution_count": 367,
     "metadata": {},
     "output_type": "execute_result"
    }
   ],
   "source": [
    "dataset[\"hypertension\"].unique()"
   ]
  },
  {
   "cell_type": "code",
   "execution_count": 368,
   "id": "5196d5c6",
   "metadata": {},
   "outputs": [
    {
     "data": {
      "text/plain": [
       "<AxesSubplot:xlabel='hypertension', ylabel='stroke'>"
      ]
     },
     "execution_count": 368,
     "metadata": {},
     "output_type": "execute_result"
    },
    {
     "data": {
      "image/png": "[encoded data removed]",
      "text/plain": [
       "<Figure size 432x288 with 1 Axes>"
      ]
     },
     "metadata": {
      "needs_background": "light"
     },
     "output_type": "display_data"
    }
   ],
   "source": [
    "sns.barplot(dataset[\"hypertension\"],y)"
   ]
  },
  {
   "cell_type": "code",
   "execution_count": 369,
   "id": "c60e425e",
   "metadata": {},
   "outputs": [
    {
     "data": {
      "text/plain": [
       "array([1, 0], dtype=int64)"
      ]
     },
     "execution_count": 369,
     "metadata": {},
     "output_type": "execute_result"
    }
   ],
   "source": [
    "dataset[\"heart_disease\"].unique()"
   ]
  },
  {
   "cell_type": "code",
   "execution_count": 370,
   "id": "5d5f95d2",
   "metadata": {},
   "outputs": [
    {
     "data": {
      "text/plain": [
       "<AxesSubplot:xlabel='heart_disease', ylabel='stroke'>"
      ]
     },
     "execution_count": 370,
     "metadata": {},
     "output_type": "execute_result"
    },
    {
     "data": {
      "image/png": "[encoded data removed]",
      "text/plain": [
       "<Figure size 432x288 with 1 Axes>"
      ]
     },
     "metadata": {
      "needs_background": "light"
     },
     "output_type": "display_data"
    }
   ],
   "source": [
    "sns.barplot(dataset[\"heart_disease\"],y)"
   ]
  },
  {
   "cell_type": "code",
   "execution_count": 371,
   "id": "23d42a17",
   "metadata": {},
   "outputs": [
    {
     "data": {
      "text/plain": [
       "array([1, 0], dtype=int64)"
      ]
     },
     "execution_count": 371,
     "metadata": {},
     "output_type": "execute_result"
    }
   ],
   "source": [
    "dataset[\"ever_married\"].unique()"
   ]
  },
  {
   "cell_type": "code",
   "execution_count": 372,
   "id": "a3ea035e",
   "metadata": {},
   "outputs": [
    {
     "data": {
      "text/plain": [
       "<AxesSubplot:xlabel='ever_married', ylabel='stroke'>"
      ]
     },
     "execution_count": 372,
     "metadata": {},
     "output_type": "execute_result"
    },
    {
     "data": {
      "image/png": "[encoded data removed]",
      "text/plain": [
       "<Figure size 432x288 with 1 Axes>"
      ]
     },
     "metadata": {
      "needs_background": "light"
     },
     "output_type": "display_data"
    }
   ],
   "source": [
    "sns.barplot(dataset[\"ever_married\"],y)"
   ]
  },
  {
   "cell_type": "code",
   "execution_count": 373,
   "id": "bd58cb59",
   "metadata": {},
   "outputs": [
    {
     "data": {
      "text/plain": [
       "array([1, 2, 3, 4, 5], dtype=int64)"
      ]
     },
     "execution_count": 373,
     "metadata": {},
     "output_type": "execute_result"
    }
   ],
   "source": [
    "dataset[\"work_type\"].unique()"
   ]
  },
  {
   "cell_type": "code",
   "execution_count": 374,
   "id": "6e619a0b",
   "metadata": {},
   "outputs": [
    {
     "data": {
      "text/plain": [
       "<AxesSubplot:xlabel='work_type', ylabel='stroke'>"
      ]
     },
     "execution_count": 374,
     "metadata": {},
     "output_type": "execute_result"
    },
    {
     "data": {
      "image/png": "[encoded data removed]",
      "text/plain": [
       "<Figure size 432x288 with 1 Axes>"
      ]
     },
     "metadata": {
      "needs_background": "light"
     },
     "output_type": "display_data"
    }
   ],
   "source": [
    "sns.barplot(dataset[\"work_type\"],y)"
   ]
  },
  {
   "cell_type": "code",
   "execution_count": 375,
   "id": "31e9fa01",
   "metadata": {},
   "outputs": [
    {
     "data": {
      "text/plain": [
       "array([1, 2], dtype=int64)"
      ]
     },
     "execution_count": 375,
     "metadata": {},
     "output_type": "execute_result"
    }
   ],
   "source": [
    "dataset[\"Residence_type\"].unique()"
   ]
  },
  {
   "cell_type": "code",
   "execution_count": 376,
   "id": "ed67e022",
   "metadata": {},
   "outputs": [
    {
     "data": {
      "text/plain": [
       "<AxesSubplot:xlabel='Residence_type', ylabel='count'>"
      ]
     },
     "execution_count": 376,
     "metadata": {},
     "output_type": "execute_result"
    },
    {
     "data": {
      "image/png": "[encoded data removed]",
      "text/plain": [
       "<Figure size 432x288 with 1 Axes>"
      ]
     },
     "metadata": {
      "needs_background": "light"
     },
     "output_type": "display_data"
    }
   ],
   "source": [
    "sns.countplot(dataset[\"Residence_type\"])"
   ]
  },
  {
   "cell_type": "code",
   "execution_count": 377,
   "id": "36dbd130",
   "metadata": {},
   "outputs": [
    {
     "data": {
      "text/plain": [
       "<AxesSubplot:xlabel='avg_glucose_level', ylabel='stroke'>"
      ]
     },
     "execution_count": 377,
     "metadata": {},
     "output_type": "execute_result"
    },
    {
     "data": {
      "image/png": "[encoded data removed]",
      "text/plain": [
       "<Figure size 432x288 with 1 Axes>"
      ]
     },
     "metadata": {
      "needs_background": "light"
     },
     "output_type": "display_data"
    }
   ],
   "source": [
    "sns.barplot(dataset[\"avg_glucose_level\"],y)"
   ]
  },
  {
   "cell_type": "code",
   "execution_count": 378,
   "id": "997ade46",
   "metadata": {},
   "outputs": [
    {
     "data": {
      "text/plain": [
       "array([36.6,  nan, 32.5, 34.4, 24. , 29. , 27.4, 22.8, 24.2, 29.7, 36.8,\n",
       "       27.3, 28.2, 30.9, 37.5, 25.8, 37.8, 22.4, 48.9, 26.6, 27.2, 23.5,\n",
       "       28.3, 44.2, 25.4, 22.2, 30.5, 26.5, 33.7, 23.1, 32. , 29.9, 23.9,\n",
       "       28.5, 26.4, 20.2, 33.6, 38.6, 39.2, 27.7, 31.4, 36.5, 33.2, 32.8,\n",
       "       40.4, 25.3, 30.2, 47.5, 20.3, 30. , 28.9, 28.1, 31.1, 21.7, 27. ,\n",
       "       24.1, 45.9, 44.1, 22.9, 29.1, 32.3, 41.1, 25.6, 29.8, 26.3, 26.2,\n",
       "       29.4, 24.4, 28. , 28.8, 34.6, 19.4, 30.3, 41.5, 22.6, 56.6, 27.1,\n",
       "       31.3, 31. , 31.7, 35.8, 28.4, 20.1, 26.7, 38.7, 34.9, 25. , 23.8,\n",
       "       21.8, 27.5, 24.6, 32.9, 26.1, 31.9, 34.1, 36.9, 37.3, 45.7, 34.2,\n",
       "       23.6, 22.3, 37.1, 45. , 25.5, 30.8, 37.4, 34.5, 27.9, 29.5, 46. ,\n",
       "       42.5, 35.5, 26.9, 45.5, 31.5, 33. , 23.4, 30.7, 20.5, 21.5, 40. ,\n",
       "       28.6, 42.2, 29.6, 35.4, 16.9, 26.8, 39.3, 32.6, 35.9, 21.2, 42.4,\n",
       "       40.5, 36.7, 29.3, 19.6, 18. , 17.6, 19.1, 50.1, 17.7, 54.6, 35. ,\n",
       "       22. , 39.4, 19.7, 22.5, 25.2, 41.8, 60.9, 23.7, 24.5, 31.2, 16. ,\n",
       "       31.6, 25.1, 24.8, 18.3, 20. , 19.5, 36. , 35.3, 40.1, 43.1, 21.4,\n",
       "       34.3, 27.6, 16.5, 24.3, 25.7, 21.9, 38.4, 25.9, 54.7, 18.6, 24.9,\n",
       "       48.2, 20.7, 39.5, 23.3, 64.8, 35.1, 43.6, 21. , 47.3, 16.6, 21.6,\n",
       "       15.5, 35.6, 16.7, 41.9, 16.4, 17.1, 29.2, 37.9, 44.6, 39.6, 40.3,\n",
       "       41.6, 39. , 23.2, 18.9, 36.1, 36.3, 46.5, 16.8, 46.6, 35.2, 20.9,\n",
       "       13.8, 31.8, 15.3, 38.2, 45.2, 17. , 49.8, 27.8, 60.2, 23. , 22.1,\n",
       "       26. , 44.3, 51. , 39.7, 34.7, 21.3, 41.2, 34.8, 19.2, 35.7, 40.8,\n",
       "       24.7, 19. , 32.4, 34. , 28.7, 32.1, 51.5, 20.4, 30.6, 71.9, 19.3,\n",
       "       40.9, 17.2, 16.1, 16.2, 40.6, 18.4, 21.1, 42.3, 32.2, 50.2, 17.5,\n",
       "       18.7, 42.1, 47.8, 20.8, 30.1, 17.3, 36.4, 12. , 36.2, 55.7, 14.4,\n",
       "       43. , 41.7, 33.8, 43.9, 22.7, 57.5, 37. , 38.5, 16.3, 44. , 32.7,\n",
       "       54.2, 40.2, 33.3, 17.4, 41.3, 52.3, 14.6, 17.8, 46.1, 33.1, 18.1,\n",
       "       43.8, 50.3, 38.9, 43.7, 39.9, 15.9, 19.8, 12.3, 78. , 38.3, 41. ,\n",
       "       42.6, 43.4, 15.1, 20.6, 33.5, 43.2, 30.4, 38. , 33.4, 44.9, 44.7,\n",
       "       37.6, 39.8, 53.4, 55.2, 42. , 37.2, 42.8, 18.8, 42.9, 14.3, 37.7,\n",
       "       48.4, 50.6, 46.2, 49.5, 43.3, 33.9, 18.5, 44.5, 45.4, 55. , 54.8,\n",
       "       19.9, 17.9, 15.6, 52.8, 15.2, 66.8, 55.1, 18.2, 48.5, 55.9, 57.3,\n",
       "       10.3, 14.1, 15.7, 56. , 44.8, 13.4, 51.8, 38.1, 57.7, 44.4, 38.8,\n",
       "       49.3, 39.1, 54. , 56.1, 97.6, 53.9, 13.7, 11.5, 41.4, 14.2, 49.4,\n",
       "       15.4, 45.1, 49.2, 48.7, 53.8, 42.7, 48.8, 52.7, 53.5, 50.5, 15.8,\n",
       "       45.3, 14.8, 51.9, 63.3, 40.7, 61.2, 48. , 46.8, 48.3, 58.1, 50.4,\n",
       "       11.3, 12.8, 13.5, 14.5, 15. , 59.7, 47.4, 52.5, 13.2, 52.9, 61.6,\n",
       "       49.9, 54.3, 47.9, 13. , 13.9, 50.9, 57.2, 64.4, 92. , 50.8, 57.9,\n",
       "       45.8, 47.6, 14. , 46.4, 46.9, 47.1, 13.3, 48.1, 51.7, 46.3, 54.1,\n",
       "       14.9])"
      ]
     },
     "execution_count": 378,
     "metadata": {},
     "output_type": "execute_result"
    }
   ],
   "source": [
    "dataset[\"bmi\"].unique()"
   ]
  },
  {
   "cell_type": "code",
   "execution_count": 379,
   "id": "97bb965e",
   "metadata": {},
   "outputs": [
    {
     "data": {
      "text/plain": [
       "<AxesSubplot:xlabel='bmi', ylabel='stroke'>"
      ]
     },
     "execution_count": 379,
     "metadata": {},
     "output_type": "execute_result"
    },
    {
     "data": {
      "image/png": "[encoded data removed]",
      "text/plain": [
       "<Figure size 432x288 with 1 Axes>"
      ]
     },
     "metadata": {
      "needs_background": "light"
     },
     "output_type": "display_data"
    }
   ],
   "source": [
    "sns.barplot(dataset[\"bmi\"],y)"
   ]
  },
  {
   "cell_type": "code",
   "execution_count": 380,
   "id": "0fbde2b2",
   "metadata": {},
   "outputs": [
    {
     "data": {
      "text/plain": [
       "array([1, 2, 3, 4], dtype=int64)"
      ]
     },
     "execution_count": 380,
     "metadata": {},
     "output_type": "execute_result"
    }
   ],
   "source": [
    "dataset[\"smoking_status\"].unique()"
   ]
  },
  {
   "cell_type": "code",
   "execution_count": 381,
   "id": "5eb070c9",
   "metadata": {},
   "outputs": [
    {
     "data": {
      "text/plain": [
       "<AxesSubplot:xlabel='smoking_status', ylabel='count'>"
      ]
     },
     "execution_count": 381,
     "metadata": {},
     "output_type": "execute_result"
    },
    {
     "data": {
      "image/png": "[encoded data removed]",
      "text/plain": [
       "<Figure size 432x288 with 1 Axes>"
      ]
     },
     "metadata": {
      "needs_background": "light"
     },
     "output_type": "display_data"
    }
   ],
   "source": [
    "sns.countplot(dataset[\"smoking_status\"])"
   ]
  },
  {
   "cell_type": "code",
   "execution_count": 382,
   "id": "84bbaf7c",
   "metadata": {},
   "outputs": [],
   "source": [
    "#IV. Train Test split"
   ]
  },
  {
   "cell_type": "code",
   "execution_count": 383,
   "id": "596e5de4",
   "metadata": {},
   "outputs": [],
   "source": [
    "from sklearn.model_selection import train_test_split\n",
    "\n",
    "predictors = dataset.drop(\"stroke\",axis=1)\n",
    "stroke = dataset[\"stroke\"]\n",
    "\n",
    "#train_x = train_x.replace((np.inf, -np.inf, np.nan), 0).reset_index(drop=True)\n",
    "\n",
    "X_train,X_test,Y_train,Y_test = train_test_split(predictors,stroke,test_size=0.20,random_state=0)\n",
    "\n",
    "X_train = X_train.replace((np.inf, -np.inf, np.nan), 0).reset_index(drop=True)\n",
    "X_test = X_test.replace((np.inf, -np.inf, np.nan), 0).reset_index(drop=True)\n",
    "Y_train = Y_train.replace((np.inf, -np.inf, np.nan), 0).reset_index(drop=True)\n",
    "Y_test = Y_test.replace((np.inf, -np.inf, np.nan), 0).reset_index(drop=True)\n"
   ]
  },
  {
   "cell_type": "code",
   "execution_count": 384,
   "id": "6efe9ccc",
   "metadata": {},
   "outputs": [
    {
     "data": {
      "text/plain": [
       "(4088, 11)"
      ]
     },
     "execution_count": 384,
     "metadata": {},
     "output_type": "execute_result"
    }
   ],
   "source": [
    "X_train.shape"
   ]
  },
  {
   "cell_type": "code",
   "execution_count": 385,
   "id": "6a137bac",
   "metadata": {},
   "outputs": [
    {
     "data": {
      "text/plain": [
       "(1022, 11)"
      ]
     },
     "execution_count": 385,
     "metadata": {},
     "output_type": "execute_result"
    }
   ],
   "source": [
    "X_test.shape"
   ]
  },
  {
   "cell_type": "code",
   "execution_count": 386,
   "id": "c9fe282e",
   "metadata": {},
   "outputs": [
    {
     "data": {
      "text/plain": [
       "(4088,)"
      ]
     },
     "execution_count": 386,
     "metadata": {},
     "output_type": "execute_result"
    }
   ],
   "source": [
    "Y_train.shape"
   ]
  },
  {
   "cell_type": "code",
   "execution_count": 387,
   "id": "71d148d0",
   "metadata": {},
   "outputs": [
    {
     "data": {
      "text/plain": [
       "(1022,)"
      ]
     },
     "execution_count": 387,
     "metadata": {},
     "output_type": "execute_result"
    }
   ],
   "source": [
    "Y_test.shape"
   ]
  },
  {
   "cell_type": "code",
   "execution_count": 388,
   "id": "2f2292a2",
   "metadata": {},
   "outputs": [],
   "source": [
    "#V. Model Fitting"
   ]
  },
  {
   "cell_type": "code",
   "execution_count": 389,
   "id": "1c818b73",
   "metadata": {},
   "outputs": [],
   "source": [
    "from sklearn.metrics import accuracy_score"
   ]
  },
  {
   "cell_type": "code",
   "execution_count": 390,
   "id": "ca9550e8",
   "metadata": {},
   "outputs": [],
   "source": [
    "#Logistic Regression"
   ]
  },
  {
   "cell_type": "code",
   "execution_count": 391,
   "id": "be06dac0",
   "metadata": {},
   "outputs": [],
   "source": [
    "from sklearn.linear_model import LogisticRegression\n",
    "\n",
    "lr = LogisticRegression()\n",
    "\n",
    "\n",
    "lr.fit(X_train,Y_train)\n",
    "\n",
    "Y_pred_lr = lr.predict(X_test)"
   ]
  },
  {
   "cell_type": "code",
   "execution_count": 392,
   "id": "11209a9b",
   "metadata": {},
   "outputs": [
    {
     "data": {
      "text/plain": [
       "(1022,)"
      ]
     },
     "execution_count": 392,
     "metadata": {},
     "output_type": "execute_result"
    }
   ],
   "source": [
    "Y_pred_lr.shape"
   ]
  },
  {
   "cell_type": "code",
   "execution_count": 393,
   "id": "b348d0ee",
   "metadata": {},
   "outputs": [
    {
     "name": "stdout",
     "output_type": "stream",
     "text": [
      "The accuracy score achieved using Logistic Regression is: 94.42 %\n"
     ]
    }
   ],
   "source": [
    "score_lr = round(accuracy_score(Y_pred_lr,Y_test)*100,2)\n",
    "\n",
    "print(\"The accuracy score achieved using Logistic Regression is: \"+str(score_lr)+\" %\")"
   ]
  },
  {
   "cell_type": "code",
   "execution_count": 394,
   "id": "f0a5013c",
   "metadata": {},
   "outputs": [],
   "source": [
    "#Naive Bayes"
   ]
  },
  {
   "cell_type": "code",
   "execution_count": 395,
   "id": "d1e9de94",
   "metadata": {},
   "outputs": [],
   "source": [
    "from sklearn.naive_bayes import GaussianNB\n",
    "\n",
    "nb = GaussianNB()\n",
    "\n",
    "nb.fit(X_train,Y_train)\n",
    "\n",
    "Y_pred_nb = nb.predict(X_test)"
   ]
  },
  {
   "cell_type": "code",
   "execution_count": 396,
   "id": "3d507a7f",
   "metadata": {},
   "outputs": [
    {
     "data": {
      "text/plain": [
       "(1022,)"
      ]
     },
     "execution_count": 396,
     "metadata": {},
     "output_type": "execute_result"
    }
   ],
   "source": [
    "Y_pred_nb.shape"
   ]
  },
  {
   "cell_type": "code",
   "execution_count": 397,
   "id": "7fd1c645",
   "metadata": {},
   "outputs": [
    {
     "name": "stdout",
     "output_type": "stream",
     "text": [
      "The accuracy score achieved using Naive Bayes is: 92.37 %\n"
     ]
    }
   ],
   "source": [
    "score_nb = round(accuracy_score(Y_pred_nb,Y_test)*100,2)\n",
    "\n",
    "print(\"The accuracy score achieved using Naive Bayes is: \"+str(score_nb)+\" %\")"
   ]
  },
  {
   "cell_type": "code",
   "execution_count": 398,
   "id": "9be789b4",
   "metadata": {},
   "outputs": [],
   "source": [
    "#SVM"
   ]
  },
  {
   "cell_type": "code",
   "execution_count": 399,
   "id": "39e78024",
   "metadata": {},
   "outputs": [],
   "source": [
    "from sklearn import svm\n",
    "\n",
    "sv = svm.SVC(kernel='linear')\n",
    "\n",
    "sv.fit(X_train, Y_train)\n",
    "\n",
    "Y_pred_svm = sv.predict(X_test)"
   ]
  },
  {
   "cell_type": "code",
   "execution_count": 400,
   "id": "19ccf655",
   "metadata": {},
   "outputs": [
    {
     "data": {
      "text/plain": [
       "(1022,)"
      ]
     },
     "execution_count": 400,
     "metadata": {},
     "output_type": "execute_result"
    }
   ],
   "source": [
    "Y_pred_svm.shape"
   ]
  },
  {
   "cell_type": "code",
   "execution_count": 401,
   "id": "16fd0289",
   "metadata": {},
   "outputs": [
    {
     "name": "stdout",
     "output_type": "stream",
     "text": [
      "The accuracy score achieved using Linear SVM is: 94.13 %\n"
     ]
    }
   ],
   "source": [
    "score_svm = round(accuracy_score(Y_pred_svm,Y_test)*100,2)\n",
    "\n",
    "print(\"The accuracy score achieved using Linear SVM is: \"+str(score_svm)+\" %\")"
   ]
  },
  {
   "cell_type": "code",
   "execution_count": 402,
   "id": "d11ea40e",
   "metadata": {},
   "outputs": [],
   "source": [
    "#K Nearest Neighbors"
   ]
  },
  {
   "cell_type": "code",
   "execution_count": 403,
   "id": "04796933",
   "metadata": {},
   "outputs": [],
   "source": [
    "from sklearn.neighbors import KNeighborsClassifier\n",
    "\n",
    "knn = KNeighborsClassifier(n_neighbors=7)\n",
    "knn.fit(X_train,Y_train)\n",
    "Y_pred_knn=knn.predict(X_test)"
   ]
  },
  {
   "cell_type": "code",
   "execution_count": 404,
   "id": "e492ba8e",
   "metadata": {},
   "outputs": [
    {
     "data": {
      "text/plain": [
       "(1022,)"
      ]
     },
     "execution_count": 404,
     "metadata": {},
     "output_type": "execute_result"
    }
   ],
   "source": [
    "Y_pred_knn.shape"
   ]
  },
  {
   "cell_type": "code",
   "execution_count": 405,
   "id": "eca10a07",
   "metadata": {},
   "outputs": [
    {
     "name": "stdout",
     "output_type": "stream",
     "text": [
      "The accuracy score achieved using KNN is: 94.72 %\n"
     ]
    }
   ],
   "source": [
    "score_knn = round(accuracy_score(Y_pred_knn,Y_test)*100,2)\n",
    "\n",
    "print(\"The accuracy score achieved using KNN is: \"+str(score_knn)+\" %\")"
   ]
  },
  {
   "cell_type": "code",
   "execution_count": 406,
   "id": "f2eecbfa",
   "metadata": {},
   "outputs": [],
   "source": [
    "#Decision Tree"
   ]
  },
  {
   "cell_type": "code",
   "execution_count": 407,
   "id": "b9eb3eef",
   "metadata": {},
   "outputs": [],
   "source": [
    "from sklearn.tree import DecisionTreeClassifier\n",
    "\n",
    "max_accuracy = 0\n",
    "\n",
    "\n",
    "for x in range(200):\n",
    "    dt = DecisionTreeClassifier(random_state=x)\n",
    "    dt.fit(X_train,Y_train)\n",
    "    Y_pred_dt = dt.predict(X_test)\n",
    "    current_accuracy = round(accuracy_score(Y_pred_dt,Y_test)*100,2)\n",
    "    if(current_accuracy>max_accuracy):\n",
    "        max_accuracy = current_accuracy\n",
    "        best_x = x\n",
    "        \n",
    "#print(max_accuracy)\n",
    "#print(best_x)\n",
    "\n",
    "\n",
    "dt = DecisionTreeClassifier(random_state=best_x)\n",
    "dt.fit(X_train,Y_train)\n",
    "Y_pred_dt = dt.predict(X_test)"
   ]
  },
  {
   "cell_type": "code",
   "execution_count": 408,
   "id": "d1d5263c",
   "metadata": {},
   "outputs": [
    {
     "name": "stdout",
     "output_type": "stream",
     "text": [
      "(1022,)\n"
     ]
    }
   ],
   "source": [
    "print(Y_pred_dt.shape)"
   ]
  },
  {
   "cell_type": "code",
   "execution_count": 409,
   "id": "57d192cf",
   "metadata": {},
   "outputs": [
    {
     "name": "stdout",
     "output_type": "stream",
     "text": [
      "The accuracy score achieved using Decision Tree is: 91.98 %\n"
     ]
    }
   ],
   "source": [
    "score_dt = round(accuracy_score(Y_pred_dt,Y_test)*100,2)\n",
    "\n",
    "print(\"The accuracy score achieved using Decision Tree is: \"+str(score_dt)+\" %\")"
   ]
  },
  {
   "cell_type": "code",
   "execution_count": 410,
   "id": "cb4ff030",
   "metadata": {},
   "outputs": [],
   "source": [
    "#Random Forest"
   ]
  },
  {
   "cell_type": "code",
   "execution_count": 411,
   "id": "a397d3f2",
   "metadata": {},
   "outputs": [],
   "source": [
    "from sklearn.ensemble import RandomForestClassifier\n",
    "\n",
    "max_accuracy = 0\n",
    "\n",
    "\n",
    "for x in range(2000):\n",
    "    rf = RandomForestClassifier(random_state=x)\n",
    "    rf.fit(X_train,Y_train)\n",
    "    Y_pred_rf = rf.predict(X_test)\n",
    "    current_accuracy = round(accuracy_score(Y_pred_rf,Y_test)*100,2)\n",
    "    if(current_accuracy>max_accuracy):\n",
    "        max_accuracy = current_accuracy\n",
    "        best_x = x\n",
    "        \n",
    "#print(max_accuracy)\n",
    "#print(best_x)\n",
    "\n",
    "rf = RandomForestClassifier(random_state=best_x)\n",
    "rf.fit(X_train,Y_train)\n",
    "Y_pred_rf = rf.predict(X_test)"
   ]
  },
  {
   "cell_type": "code",
   "execution_count": 412,
   "id": "003c122f",
   "metadata": {},
   "outputs": [
    {
     "data": {
      "text/plain": [
       "(1022,)"
      ]
     },
     "execution_count": 412,
     "metadata": {},
     "output_type": "execute_result"
    }
   ],
   "source": [
    "Y_pred_rf.shape"
   ]
  },
  {
   "cell_type": "code",
   "execution_count": 413,
   "id": "0f2a7faa",
   "metadata": {},
   "outputs": [
    {
     "name": "stdout",
     "output_type": "stream",
     "text": [
      "The accuracy score achieved using Decision Tree is: 95.01 %\n"
     ]
    }
   ],
   "source": [
    "score_rf = round(accuracy_score(Y_pred_rf,Y_test)*100,2)\n",
    "\n",
    "print(\"The accuracy score achieved using Decision Tree is: \"+str(score_rf)+\" %\")"
   ]
  },
  {
   "cell_type": "code",
   "execution_count": 414,
   "id": "e730aa0b",
   "metadata": {},
   "outputs": [],
   "source": [
    "#XGBoost"
   ]
  },
  {
   "cell_type": "code",
   "execution_count": 416,
   "id": "f495c7ec",
   "metadata": {},
   "outputs": [],
   "source": [
    "import xgboost as xgb\n",
    "\n",
    "xgb_model = xgb.XGBClassifier(objective=\"binary:logistic\", random_state=42, eval_metric='mlogloss')\n",
    "\n",
    "#xgb_model = np.nan_to_num(xgb_model)\n",
    "\n",
    "xgb_model.fit(X_train, Y_train)\n",
    "\n",
    "\n",
    "\n",
    "Y_pred_xgb = xgb_model.predict(X_test)\n",
    "\n",
    "#X = np.nan_to_num(X)\n",
    "\n",
    "#Y_pred_xgb = X_train.replace((np.inf, -np.inf, np.nan), 0).reset_index(drop=True)"
   ]
  },
  {
   "cell_type": "code",
   "execution_count": 417,
   "id": "c9b54725",
   "metadata": {},
   "outputs": [
    {
     "data": {
      "text/plain": [
       "(1022,)"
      ]
     },
     "execution_count": 417,
     "metadata": {},
     "output_type": "execute_result"
    }
   ],
   "source": [
    "Y_pred_xgb.shape"
   ]
  },
  {
   "cell_type": "code",
   "execution_count": 418,
   "id": "c659d7d3",
   "metadata": {},
   "outputs": [
    {
     "name": "stdout",
     "output_type": "stream",
     "text": [
      "The accuracy score achieved using XGBoost is: 94.62 %\n"
     ]
    }
   ],
   "source": [
    "score_xgb = round(accuracy_score(Y_pred_xgb,Y_test)*100,2)\n",
    "\n",
    "print(\"The accuracy score achieved using XGBoost is: \"+str(score_xgb)+\" %\")"
   ]
  },
  {
   "cell_type": "code",
   "execution_count": 419,
   "id": "1ea91e02",
   "metadata": {},
   "outputs": [],
   "source": [
    "#Neural Network"
   ]
  },
  {
   "cell_type": "code",
   "execution_count": 420,
   "id": "eeb015b2",
   "metadata": {},
   "outputs": [],
   "source": [
    "from keras.models import Sequential\n",
    "from keras.layers import Dense"
   ]
  },
  {
   "cell_type": "code",
   "execution_count": 445,
   "id": "39c7e31c",
   "metadata": {},
   "outputs": [],
   "source": [
    "# https://stats.stackexchange.com/a/136542 helped a lot in avoiding overfitting\n",
    "#from registration.signals import user_registered\n",
    "\n",
    "model = Sequential()\n",
    "model.add(Dense(11,activation='relu',input_dim=11))\n",
    "model.add(Dense(1,activation='sigmoid'))\n",
    "\n",
    "model.compile(loss='binary_crossentropy',optimizer='adam',metrics=['accuracy'])"
   ]
  },
  {
   "cell_type": "code",
   "execution_count": 447,
   "id": "98a8d946",
   "metadata": {},
   "outputs": [
    {
     "name": "stdout",
     "output_type": "stream",
     "text": [
      "Epoch 1/300\n",
      "128/128 [==============================] - 0s 696us/step - loss: 7.1888 - accuracy: 0.8848\n",
      "Epoch 2/300\n",
      "128/128 [==============================] - 0s 555us/step - loss: 8.1223 - accuracy: 0.8960\n",
      "Epoch 3/300\n",
      "128/128 [==============================] - 0s 583us/step - loss: 5.1697 - accuracy: 0.8960\n",
      "Epoch 4/300\n",
      "128/128 [==============================] - 0s 811us/step - loss: 6.6468 - accuracy: 0.9017\n",
      "Epoch 5/300\n",
      "128/128 [==============================] - 0s 568us/step - loss: 7.2202 - accuracy: 0.8975\n",
      "Epoch 6/300\n",
      "128/128 [==============================] - 0s 618us/step - loss: 6.5222 - accuracy: 0.9036\n",
      "Epoch 7/300\n",
      "128/128 [==============================] - 0s 569us/step - loss: 8.3981 - accuracy: 0.9070\n",
      "Epoch 8/300\n",
      "128/128 [==============================] - 0s 617us/step - loss: 5.9612 - accuracy: 0.8933\n",
      "Epoch 9/300\n",
      "128/128 [==============================] - 0s 582us/step - loss: 4.8172 - accuracy: 0.9036\n",
      "Epoch 10/300\n",
      "128/128 [==============================] - 0s 648us/step - loss: 6.1444 - accuracy: 0.9041\n",
      "Epoch 11/300\n",
      "128/128 [==============================] - 0s 601us/step - loss: 5.2177 - accuracy: 0.9044\n",
      "Epoch 12/300\n",
      "128/128 [==============================] - 0s 647us/step - loss: 6.4813 - accuracy: 0.9044\n",
      "Epoch 13/300\n",
      "128/128 [==============================] - 0s 592us/step - loss: 5.4211 - accuracy: 0.9014\n",
      "Epoch 14/300\n",
      "128/128 [==============================] - 0s 607us/step - loss: 5.2040 - accuracy: 0.9080\n",
      "Epoch 15/300\n",
      "128/128 [==============================] - 0s 597us/step - loss: 5.4769 - accuracy: 0.9097\n",
      "Epoch 16/300\n",
      "128/128 [==============================] - 0s 605us/step - loss: 5.6213 - accuracy: 0.9034\n",
      "Epoch 17/300\n",
      "128/128 [==============================] - 0s 642us/step - loss: 7.0101 - accuracy: 0.9080\n",
      "Epoch 18/300\n",
      "128/128 [==============================] - 0s 635us/step - loss: 5.9961 - accuracy: 0.9061\n",
      "Epoch 19/300\n",
      "128/128 [==============================] - 0s 759us/step - loss: 3.3520 - accuracy: 0.9070\n",
      "Epoch 20/300\n",
      "128/128 [==============================] - 0s 566us/step - loss: 4.9428 - accuracy: 0.9044\n",
      "Epoch 21/300\n",
      "128/128 [==============================] - 0s 581us/step - loss: 4.7730 - accuracy: 0.9112\n",
      "Epoch 22/300\n",
      "128/128 [==============================] - 0s 652us/step - loss: 4.5425 - accuracy: 0.9039\n",
      "Epoch 23/300\n",
      "128/128 [==============================] - 0s 683us/step - loss: 5.9654 - accuracy: 0.9097\n",
      "Epoch 24/300\n",
      "128/128 [==============================] - 0s 639us/step - loss: 3.4141 - accuracy: 0.9092\n",
      "Epoch 25/300\n",
      "128/128 [==============================] - 0s 654us/step - loss: 4.3404 - accuracy: 0.9129\n",
      "Epoch 26/300\n",
      "128/128 [==============================] - 0s 646us/step - loss: 4.5284 - accuracy: 0.9100\n",
      "Epoch 27/300\n",
      "128/128 [==============================] - 0s 643us/step - loss: 3.2234 - accuracy: 0.9058\n",
      "Epoch 28/300\n",
      "128/128 [==============================] - 0s 668us/step - loss: 3.5816 - accuracy: 0.9110\n",
      "Epoch 29/300\n",
      "128/128 [==============================] - 0s 598us/step - loss: 4.3320 - accuracy: 0.9090\n",
      "Epoch 30/300\n",
      "128/128 [==============================] - 0s 682us/step - loss: 5.0532 - accuracy: 0.9136\n",
      "Epoch 31/300\n",
      "128/128 [==============================] - 0s 629us/step - loss: 3.7159 - accuracy: 0.9161\n",
      "Epoch 32/300\n",
      "128/128 [==============================] - 0s 690us/step - loss: 2.3982 - accuracy: 0.9083\n",
      "Epoch 33/300\n",
      "128/128 [==============================] - 0s 653us/step - loss: 6.3646 - accuracy: 0.9173\n",
      "Epoch 34/300\n",
      "128/128 [==============================] - 0s 699us/step - loss: 3.9699 - accuracy: 0.9092\n",
      "Epoch 35/300\n",
      "128/128 [==============================] - 0s 644us/step - loss: 2.9626 - accuracy: 0.9097\n",
      "Epoch 36/300\n",
      "128/128 [==============================] - 0s 612us/step - loss: 5.1563 - accuracy: 0.9090\n",
      "Epoch 37/300\n",
      "128/128 [==============================] - 0s 663us/step - loss: 3.8572 - accuracy: 0.9122\n",
      "Epoch 38/300\n",
      "128/128 [==============================] - 0s 681us/step - loss: 5.9285 - accuracy: 0.9056\n",
      "Epoch 39/300\n",
      "128/128 [==============================] - 0s 590us/step - loss: 3.8266 - accuracy: 0.9166\n",
      "Epoch 40/300\n",
      "128/128 [==============================] - 0s 603us/step - loss: 4.1054 - accuracy: 0.9117\n",
      "Epoch 41/300\n",
      "128/128 [==============================] - 0s 602us/step - loss: 3.0137 - accuracy: 0.9171\n",
      "Epoch 42/300\n",
      "128/128 [==============================] - 0s 590us/step - loss: 4.9734 - accuracy: 0.9102\n",
      "Epoch 43/300\n",
      "128/128 [==============================] - 0s 682us/step - loss: 5.1755 - accuracy: 0.9114\n",
      "Epoch 44/300\n",
      "128/128 [==============================] - 0s 611us/step - loss: 4.7520 - accuracy: 0.9114\n",
      "Epoch 45/300\n",
      "128/128 [==============================] - 0s 596us/step - loss: 3.0392 - accuracy: 0.9080\n",
      "Epoch 46/300\n",
      "128/128 [==============================] - 0s 568us/step - loss: 2.9825 - accuracy: 0.9100\n",
      "Epoch 47/300\n",
      "128/128 [==============================] - 0s 606us/step - loss: 2.8195 - accuracy: 0.9151\n",
      "Epoch 48/300\n",
      "128/128 [==============================] - 0s 581us/step - loss: 4.8389 - accuracy: 0.9092\n",
      "Epoch 49/300\n",
      "128/128 [==============================] - 0s 574us/step - loss: 3.9185 - accuracy: 0.9117\n",
      "Epoch 50/300\n",
      "128/128 [==============================] - 0s 597us/step - loss: 4.9436 - accuracy: 0.9061\n",
      "Epoch 51/300\n",
      "128/128 [==============================] - 0s 558us/step - loss: 6.2794 - accuracy: 0.9092\n",
      "Epoch 52/300\n",
      "128/128 [==============================] - 0s 624us/step - loss: 2.2937 - accuracy: 0.9110\n",
      "Epoch 53/300\n",
      "128/128 [==============================] - 0s 645us/step - loss: 5.1686 - accuracy: 0.9107\n",
      "Epoch 54/300\n",
      "128/128 [==============================] - 0s 524us/step - loss: 1.9331 - accuracy: 0.9127\n",
      "Epoch 55/300\n",
      "128/128 [==============================] - 0s 556us/step - loss: 2.7379 - accuracy: 0.9168\n",
      "Epoch 56/300\n",
      "128/128 [==============================] - 0s 556us/step - loss: 2.7046 - accuracy: 0.9088\n",
      "Epoch 57/300\n",
      "128/128 [==============================] - 0s 721us/step - loss: 4.7752 - accuracy: 0.9083\n",
      "Epoch 58/300\n",
      "128/128 [==============================] - 0s 610us/step - loss: 2.7607 - accuracy: 0.9134\n",
      "Epoch 59/300\n",
      "128/128 [==============================] - 0s 594us/step - loss: 6.2106 - accuracy: 0.9171\n",
      "Epoch 60/300\n",
      "128/128 [==============================] - 0s 570us/step - loss: 4.3236 - accuracy: 0.9039\n",
      "Epoch 61/300\n",
      "128/128 [==============================] - 0s 555us/step - loss: 3.2642 - accuracy: 0.9178\n",
      "Epoch 62/300\n",
      "128/128 [==============================] - 0s 673us/step - loss: 2.9026 - accuracy: 0.9144\n",
      "Epoch 63/300\n",
      "128/128 [==============================] - 0s 595us/step - loss: 3.0903 - accuracy: 0.9161\n",
      "Epoch 64/300\n",
      "128/128 [==============================] - 0s 595us/step - loss: 4.4842 - accuracy: 0.9134\n",
      "Epoch 65/300\n",
      "128/128 [==============================] - 0s 612us/step - loss: 1.8112 - accuracy: 0.9122\n",
      "Epoch 66/300\n",
      "128/128 [==============================] - 0s 574us/step - loss: 2.8583 - accuracy: 0.9095\n",
      "Epoch 67/300\n",
      "128/128 [==============================] - 0s 642us/step - loss: 2.8317 - accuracy: 0.9198\n",
      "Epoch 68/300\n",
      "128/128 [==============================] - 0s 639us/step - loss: 2.4740 - accuracy: 0.9144\n",
      "Epoch 69/300\n",
      "128/128 [==============================] - 0s 666us/step - loss: 4.0007 - accuracy: 0.9112\n",
      "Epoch 70/300\n",
      "128/128 [==============================] - 0s 671us/step - loss: 6.7435 - accuracy: 0.9122\n",
      "Epoch 71/300\n",
      "128/128 [==============================] - 0s 628us/step - loss: 3.7652 - accuracy: 0.9066\n",
      "Epoch 72/300\n",
      "128/128 [==============================] - 0s 597us/step - loss: 3.3723 - accuracy: 0.9190\n",
      "Epoch 73/300\n",
      "128/128 [==============================] - 0s 568us/step - loss: 5.6273 - accuracy: 0.9110\n",
      "Epoch 74/300\n",
      "128/128 [==============================] - 0s 631us/step - loss: 5.4085 - accuracy: 0.9102\n",
      "Epoch 75/300\n",
      "128/128 [==============================] - 0s 632us/step - loss: 4.0062 - accuracy: 0.9141\n",
      "Epoch 76/300\n",
      "128/128 [==============================] - 0s 561us/step - loss: 3.0393 - accuracy: 0.9122\n",
      "Epoch 77/300\n",
      "128/128 [==============================] - 0s 566us/step - loss: 3.7007 - accuracy: 0.9200\n",
      "Epoch 78/300\n",
      "128/128 [==============================] - 0s 687us/step - loss: 4.5803 - accuracy: 0.9051\n",
      "Epoch 79/300\n",
      "128/128 [==============================] - 0s 665us/step - loss: 3.2832 - accuracy: 0.9119\n",
      "Epoch 80/300\n",
      "128/128 [==============================] - 0s 606us/step - loss: 4.5821 - accuracy: 0.9088\n",
      "Epoch 81/300\n",
      "128/128 [==============================] - 0s 583us/step - loss: 4.1674 - accuracy: 0.9134\n",
      "Epoch 82/300\n",
      "128/128 [==============================] - 0s 641us/step - loss: 2.7171 - accuracy: 0.9122\n",
      "Epoch 83/300\n",
      "128/128 [==============================] - 0s 582us/step - loss: 3.2694 - accuracy: 0.9166\n",
      "Epoch 84/300\n",
      "128/128 [==============================] - 0s 616us/step - loss: 2.4380 - accuracy: 0.9156\n",
      "Epoch 85/300\n",
      "128/128 [==============================] - 0s 570us/step - loss: 3.4892 - accuracy: 0.9149\n",
      "Epoch 86/300\n",
      "128/128 [==============================] - 0s 565us/step - loss: 3.6466 - accuracy: 0.9097\n",
      "Epoch 87/300\n",
      "128/128 [==============================] - 0s 677us/step - loss: 4.6043 - accuracy: 0.9107\n",
      "Epoch 88/300\n",
      "128/128 [==============================] - 0s 841us/step - loss: 3.5949 - accuracy: 0.9124\n",
      "Epoch 89/300\n",
      "128/128 [==============================] - 0s 593us/step - loss: 3.0720 - accuracy: 0.9185\n",
      "Epoch 90/300\n",
      "128/128 [==============================] - 0s 632us/step - loss: 3.5645 - accuracy: 0.9136\n",
      "Epoch 91/300\n",
      "128/128 [==============================] - 0s 594us/step - loss: 4.0459 - accuracy: 0.9124\n",
      "Epoch 92/300\n",
      "128/128 [==============================] - 0s 541us/step - loss: 3.7558 - accuracy: 0.9090\n",
      "Epoch 93/300\n",
      "128/128 [==============================] - 0s 575us/step - loss: 3.7825 - accuracy: 0.9114\n",
      "Epoch 94/300\n",
      "128/128 [==============================] - 0s 597us/step - loss: 4.5815 - accuracy: 0.9097\n",
      "Epoch 95/300\n",
      "128/128 [==============================] - 0s 571us/step - loss: 2.0109 - accuracy: 0.9151\n",
      "Epoch 96/300\n",
      "128/128 [==============================] - 0s 592us/step - loss: 3.6538 - accuracy: 0.9122\n",
      "Epoch 97/300\n",
      "128/128 [==============================] - 0s 585us/step - loss: 1.5332 - accuracy: 0.9205\n",
      "Epoch 98/300\n",
      "128/128 [==============================] - 0s 607us/step - loss: 2.6902 - accuracy: 0.9139\n",
      "Epoch 99/300\n",
      "128/128 [==============================] - 0s 630us/step - loss: 3.1889 - accuracy: 0.9136\n",
      "Epoch 100/300\n",
      "128/128 [==============================] - 0s 576us/step - loss: 4.8110 - accuracy: 0.9132\n",
      "Epoch 101/300\n",
      "128/128 [==============================] - 0s 543us/step - loss: 3.8551 - accuracy: 0.9151\n",
      "Epoch 102/300\n",
      "128/128 [==============================] - 0s 549us/step - loss: 3.0446 - accuracy: 0.9114\n",
      "Epoch 103/300\n",
      "128/128 [==============================] - 0s 541us/step - loss: 4.6104 - accuracy: 0.9168\n",
      "Epoch 104/300\n",
      "128/128 [==============================] - 0s 553us/step - loss: 3.8223 - accuracy: 0.9185\n",
      "Epoch 105/300\n",
      "128/128 [==============================] - 0s 555us/step - loss: 2.4113 - accuracy: 0.9232\n",
      "Epoch 106/300\n",
      "128/128 [==============================] - 0s 535us/step - loss: 3.3805 - accuracy: 0.9119\n",
      "Epoch 107/300\n",
      "128/128 [==============================] - 0s 559us/step - loss: 3.1711 - accuracy: 0.9171\n",
      "Epoch 108/300\n",
      "128/128 [==============================] - 0s 595us/step - loss: 2.4382 - accuracy: 0.9088\n",
      "Epoch 109/300\n",
      "128/128 [==============================] - 0s 575us/step - loss: 1.4398 - accuracy: 0.9212\n",
      "Epoch 110/300\n",
      "128/128 [==============================] - 0s 808us/step - loss: 4.7202 - accuracy: 0.9105\n",
      "Epoch 111/300\n",
      "128/128 [==============================] - 0s 608us/step - loss: 5.8819 - accuracy: 0.9163\n",
      "Epoch 112/300\n",
      "128/128 [==============================] - 0s 592us/step - loss: 1.5863 - accuracy: 0.9056\n",
      "Epoch 113/300\n",
      "128/128 [==============================] - 0s 543us/step - loss: 5.5884 - accuracy: 0.9163\n",
      "Epoch 114/300\n",
      "128/128 [==============================] - 0s 541us/step - loss: 1.5506 - accuracy: 0.9146\n",
      "Epoch 115/300\n",
      "128/128 [==============================] - 0s 640us/step - loss: 1.3338 - accuracy: 0.9171\n",
      "Epoch 116/300\n",
      "128/128 [==============================] - 0s 666us/step - loss: 4.1506 - accuracy: 0.9095\n",
      "Epoch 117/300\n",
      "128/128 [==============================] - 0s 634us/step - loss: 3.8055 - accuracy: 0.9173\n",
      "Epoch 118/300\n",
      "128/128 [==============================] - 0s 608us/step - loss: 1.8016 - accuracy: 0.9146\n",
      "Epoch 119/300\n",
      "128/128 [==============================] - 0s 594us/step - loss: 2.7765 - accuracy: 0.9146\n",
      "Epoch 120/300\n",
      "128/128 [==============================] - 0s 605us/step - loss: 2.4813 - accuracy: 0.9092\n",
      "Epoch 121/300\n",
      "128/128 [==============================] - 0s 595us/step - loss: 3.4175 - accuracy: 0.9112\n",
      "Epoch 122/300\n",
      "128/128 [==============================] - 0s 581us/step - loss: 3.4532 - accuracy: 0.9132\n",
      "Epoch 123/300\n",
      "128/128 [==============================] - 0s 546us/step - loss: 3.0100 - accuracy: 0.9124\n",
      "Epoch 124/300\n",
      "128/128 [==============================] - 0s 681us/step - loss: 3.1121 - accuracy: 0.9154\n",
      "Epoch 125/300\n",
      "128/128 [==============================] - 0s 566us/step - loss: 3.4962 - accuracy: 0.9161\n",
      "Epoch 126/300\n",
      "128/128 [==============================] - 0s 555us/step - loss: 1.6082 - accuracy: 0.9212\n",
      "Epoch 127/300\n",
      "128/128 [==============================] - 0s 566us/step - loss: 2.5241 - accuracy: 0.9176\n",
      "Epoch 128/300\n",
      "128/128 [==============================] - 0s 561us/step - loss: 4.0042 - accuracy: 0.9151\n",
      "Epoch 129/300\n",
      "128/128 [==============================] - 0s 609us/step - loss: 3.6884 - accuracy: 0.9110\n",
      "Epoch 130/300\n",
      "128/128 [==============================] - 0s 638us/step - loss: 2.9749 - accuracy: 0.9127\n",
      "Epoch 131/300\n",
      "128/128 [==============================] - 0s 646us/step - loss: 3.2248 - accuracy: 0.9110\n",
      "Epoch 132/300\n",
      "128/128 [==============================] - 0s 601us/step - loss: 2.1891 - accuracy: 0.9183\n",
      "Epoch 133/300\n",
      "128/128 [==============================] - 0s 609us/step - loss: 1.8438 - accuracy: 0.9149\n",
      "Epoch 134/300\n",
      "128/128 [==============================] - 0s 566us/step - loss: 2.8153 - accuracy: 0.9207\n",
      "Epoch 135/300\n",
      "128/128 [==============================] - 0s 549us/step - loss: 2.6984 - accuracy: 0.9168\n",
      "Epoch 136/300\n",
      "128/128 [==============================] - 0s 573us/step - loss: 1.8981 - accuracy: 0.9185\n",
      "Epoch 137/300\n",
      "128/128 [==============================] - 0s 610us/step - loss: 1.8282 - accuracy: 0.9151\n",
      "Epoch 138/300\n",
      "128/128 [==============================] - 0s 605us/step - loss: 4.3046 - accuracy: 0.9124\n",
      "Epoch 139/300\n",
      "128/128 [==============================] - 0s 735us/step - loss: 3.7701 - accuracy: 0.9127\n",
      "Epoch 140/300\n",
      "128/128 [==============================] - 0s 620us/step - loss: 2.9152 - accuracy: 0.9149\n",
      "Epoch 141/300\n",
      "128/128 [==============================] - 0s 594us/step - loss: 4.4789 - accuracy: 0.9122\n",
      "Epoch 142/300\n",
      "128/128 [==============================] - 0s 616us/step - loss: 1.7450 - accuracy: 0.9176\n",
      "Epoch 143/300\n",
      "128/128 [==============================] - 0s 602us/step - loss: 3.5414 - accuracy: 0.9129\n",
      "Epoch 144/300\n",
      "128/128 [==============================] - 0s 597us/step - loss: 1.6455 - accuracy: 0.9181\n",
      "Epoch 145/300\n",
      "128/128 [==============================] - 0s 683us/step - loss: 2.0919 - accuracy: 0.9161\n",
      "Epoch 146/300\n",
      "128/128 [==============================] - 0s 600us/step - loss: 1.8675 - accuracy: 0.9203\n",
      "Epoch 147/300\n",
      "128/128 [==============================] - 0s 647us/step - loss: 5.3890 - accuracy: 0.9124\n",
      "Epoch 148/300\n",
      "128/128 [==============================] - 0s 595us/step - loss: 2.7137 - accuracy: 0.9119\n",
      "Epoch 149/300\n",
      "128/128 [==============================] - 0s 607us/step - loss: 3.5750 - accuracy: 0.9129\n",
      "Epoch 150/300\n",
      "128/128 [==============================] - 0s 588us/step - loss: 2.5879 - accuracy: 0.9198\n",
      "Epoch 151/300\n",
      "128/128 [==============================] - 0s 591us/step - loss: 2.9801 - accuracy: 0.9080\n",
      "Epoch 152/300\n",
      "128/128 [==============================] - 0s 553us/step - loss: 2.4498 - accuracy: 0.9117\n",
      "Epoch 153/300\n",
      "128/128 [==============================] - 0s 599us/step - loss: 3.2961 - accuracy: 0.9198\n",
      "Epoch 154/300\n",
      "128/128 [==============================] - 0s 589us/step - loss: 1.9885 - accuracy: 0.9220\n",
      "Epoch 155/300\n",
      "128/128 [==============================] - 0s 570us/step - loss: 2.3597 - accuracy: 0.9232\n",
      "Epoch 156/300\n",
      "128/128 [==============================] - 0s 712us/step - loss: 3.5873 - accuracy: 0.9119\n",
      "Epoch 157/300\n",
      "128/128 [==============================] - 0s 609us/step - loss: 2.3407 - accuracy: 0.9198\n",
      "Epoch 158/300\n",
      "128/128 [==============================] - 0s 575us/step - loss: 2.6165 - accuracy: 0.9139\n",
      "Epoch 159/300\n",
      "128/128 [==============================] - 0s 561us/step - loss: 4.5179 - accuracy: 0.9134\n",
      "Epoch 160/300\n",
      "128/128 [==============================] - 0s 562us/step - loss: 2.9260 - accuracy: 0.9132\n",
      "Epoch 161/300\n",
      "128/128 [==============================] - 0s 590us/step - loss: 3.5991 - accuracy: 0.9105\n",
      "Epoch 162/300\n",
      "128/128 [==============================] - 0s 573us/step - loss: 2.2864 - accuracy: 0.9144\n",
      "Epoch 163/300\n",
      "128/128 [==============================] - 0s 584us/step - loss: 3.0766 - accuracy: 0.9203\n",
      "Epoch 164/300\n",
      "128/128 [==============================] - 0s 551us/step - loss: 2.9488 - accuracy: 0.9183\n",
      "Epoch 165/300\n",
      "128/128 [==============================] - 0s 575us/step - loss: 1.1578 - accuracy: 0.9210\n",
      "Epoch 166/300\n",
      "128/128 [==============================] - 0s 568us/step - loss: 1.7051 - accuracy: 0.9173\n",
      "Epoch 167/300\n",
      "128/128 [==============================] - 0s 575us/step - loss: 2.1798 - accuracy: 0.9225\n",
      "Epoch 168/300\n",
      "128/128 [==============================] - 0s 592us/step - loss: 5.1273 - accuracy: 0.9181\n",
      "Epoch 169/300\n",
      "128/128 [==============================] - 0s 633us/step - loss: 4.2219 - accuracy: 0.9112\n",
      "Epoch 170/300\n",
      "128/128 [==============================] - 0s 611us/step - loss: 3.8521 - accuracy: 0.9151\n",
      "Epoch 171/300\n",
      "128/128 [==============================] - 0s 581us/step - loss: 2.6360 - accuracy: 0.9168\n",
      "Epoch 172/300\n",
      "128/128 [==============================] - 0s 583us/step - loss: 3.8036 - accuracy: 0.9112\n",
      "Epoch 173/300\n",
      "128/128 [==============================] - 0s 576us/step - loss: 3.1823 - accuracy: 0.9195\n",
      "Epoch 174/300\n",
      "128/128 [==============================] - 0s 570us/step - loss: 2.7255 - accuracy: 0.9176\n",
      "Epoch 175/300\n",
      "128/128 [==============================] - 0s 560us/step - loss: 3.5469 - accuracy: 0.9188\n",
      "Epoch 176/300\n",
      "128/128 [==============================] - 0s 659us/step - loss: 2.7642 - accuracy: 0.9119\n",
      "Epoch 177/300\n",
      "128/128 [==============================] - 0s 571us/step - loss: 0.8801 - accuracy: 0.9234\n",
      "Epoch 178/300\n",
      "128/128 [==============================] - 0s 596us/step - loss: 2.8078 - accuracy: 0.9141\n",
      "Epoch 179/300\n",
      "128/128 [==============================] - 0s 622us/step - loss: 5.1780 - accuracy: 0.9102\n",
      "Epoch 180/300\n",
      "128/128 [==============================] - 0s 597us/step - loss: 3.5198 - accuracy: 0.9185\n",
      "Epoch 181/300\n",
      "128/128 [==============================] - 0s 613us/step - loss: 2.7427 - accuracy: 0.9122\n",
      "Epoch 182/300\n",
      "128/128 [==============================] - 0s 607us/step - loss: 2.0528 - accuracy: 0.9181\n",
      "Epoch 183/300\n",
      "128/128 [==============================] - 0s 547us/step - loss: 2.4145 - accuracy: 0.9183\n",
      "Epoch 184/300\n",
      "128/128 [==============================] - 0s 593us/step - loss: 2.7365 - accuracy: 0.9200\n",
      "Epoch 185/300\n",
      "128/128 [==============================] - 0s 560us/step - loss: 3.4376 - accuracy: 0.9181\n",
      "Epoch 186/300\n",
      "128/128 [==============================] - 0s 593us/step - loss: 2.0081 - accuracy: 0.9154\n",
      "Epoch 187/300\n",
      "128/128 [==============================] - 0s 702us/step - loss: 4.8173 - accuracy: 0.9171\n",
      "Epoch 188/300\n",
      "128/128 [==============================] - 0s 603us/step - loss: 2.7288 - accuracy: 0.9178\n",
      "Epoch 189/300\n",
      "128/128 [==============================] - 0s 591us/step - loss: 5.1672 - accuracy: 0.9100\n",
      "Epoch 190/300\n",
      "128/128 [==============================] - 0s 570us/step - loss: 1.0971 - accuracy: 0.9207\n",
      "Epoch 191/300\n",
      "128/128 [==============================] - 0s 606us/step - loss: 1.7032 - accuracy: 0.9200\n",
      "Epoch 192/300\n",
      "128/128 [==============================] - 0s 568us/step - loss: 2.0875 - accuracy: 0.9193\n",
      "Epoch 193/300\n",
      "128/128 [==============================] - 0s 590us/step - loss: 2.7039 - accuracy: 0.9190\n",
      "Epoch 194/300\n",
      "128/128 [==============================] - 0s 559us/step - loss: 1.6548 - accuracy: 0.9200\n",
      "Epoch 195/300\n",
      "128/128 [==============================] - 0s 576us/step - loss: 5.1433 - accuracy: 0.9141\n",
      "Epoch 196/300\n",
      "128/128 [==============================] - 0s 623us/step - loss: 3.0821 - accuracy: 0.9141\n",
      "Epoch 197/300\n",
      "128/128 [==============================] - 0s 625us/step - loss: 2.9937 - accuracy: 0.9185\n",
      "Epoch 198/300\n",
      "128/128 [==============================] - 0s 595us/step - loss: 2.0222 - accuracy: 0.9183\n",
      "Epoch 199/300\n",
      "128/128 [==============================] - 0s 614us/step - loss: 3.5806 - accuracy: 0.9193\n",
      "Epoch 200/300\n",
      "128/128 [==============================] - 0s 590us/step - loss: 2.0298 - accuracy: 0.9119\n",
      "Epoch 201/300\n",
      "128/128 [==============================] - 0s 559us/step - loss: 2.2410 - accuracy: 0.9178\n",
      "Epoch 202/300\n",
      "128/128 [==============================] - 0s 578us/step - loss: 3.2413 - accuracy: 0.9146\n",
      "Epoch 203/300\n",
      "128/128 [==============================] - 0s 545us/step - loss: 2.0354 - accuracy: 0.9200\n",
      "Epoch 204/300\n",
      "128/128 [==============================] - 0s 554us/step - loss: 2.2209 - accuracy: 0.9156\n",
      "Epoch 205/300\n",
      "128/128 [==============================] - 0s 579us/step - loss: 2.4353 - accuracy: 0.9171\n",
      "Epoch 206/300\n",
      "128/128 [==============================] - 0s 607us/step - loss: 2.3035 - accuracy: 0.9139\n",
      "Epoch 207/300\n",
      "128/128 [==============================] - 0s 580us/step - loss: 3.1437 - accuracy: 0.9134\n",
      "Epoch 208/300\n",
      "128/128 [==============================] - 0s 608us/step - loss: 1.9793 - accuracy: 0.9171\n",
      "Epoch 209/300\n",
      "128/128 [==============================] - 0s 580us/step - loss: 1.8417 - accuracy: 0.9149\n",
      "Epoch 210/300\n",
      "128/128 [==============================] - 0s 665us/step - loss: 3.9536 - accuracy: 0.9112\n",
      "Epoch 211/300\n",
      "128/128 [==============================] - 0s 588us/step - loss: 2.0621 - accuracy: 0.9154\n",
      "Epoch 212/300\n",
      "128/128 [==============================] - 0s 566us/step - loss: 2.0221 - accuracy: 0.9146\n",
      "Epoch 213/300\n",
      "128/128 [==============================] - 0s 611us/step - loss: 2.6525 - accuracy: 0.9176\n",
      "Epoch 214/300\n",
      "128/128 [==============================] - 0s 595us/step - loss: 2.8919 - accuracy: 0.9134\n",
      "Epoch 215/300\n",
      "128/128 [==============================] - 0s 572us/step - loss: 1.6336 - accuracy: 0.9183\n",
      "Epoch 216/300\n",
      "128/128 [==============================] - 0s 561us/step - loss: 3.1048 - accuracy: 0.9188\n",
      "Epoch 217/300\n",
      "128/128 [==============================] - 0s 585us/step - loss: 3.6110 - accuracy: 0.9100\n",
      "Epoch 218/300\n",
      "128/128 [==============================] - 0s 583us/step - loss: 3.7866 - accuracy: 0.9200\n",
      "Epoch 219/300\n",
      "128/128 [==============================] - 0s 621us/step - loss: 4.8573 - accuracy: 0.9124\n",
      "Epoch 220/300\n",
      "128/128 [==============================] - 0s 577us/step - loss: 3.5425 - accuracy: 0.9146\n",
      "Epoch 221/300\n",
      "128/128 [==============================] - 0s 588us/step - loss: 2.7865 - accuracy: 0.9163\n",
      "Epoch 222/300\n",
      "128/128 [==============================] - 0s 603us/step - loss: 2.4368 - accuracy: 0.9159\n",
      "Epoch 223/300\n",
      "128/128 [==============================] - 0s 613us/step - loss: 1.8200 - accuracy: 0.9237\n",
      "Epoch 224/300\n",
      "128/128 [==============================] - 0s 601us/step - loss: 2.3365 - accuracy: 0.9195\n",
      "Epoch 225/300\n",
      "128/128 [==============================] - 0s 615us/step - loss: 2.5746 - accuracy: 0.9151\n",
      "Epoch 226/300\n",
      "128/128 [==============================] - 0s 674us/step - loss: 3.4101 - accuracy: 0.9149\n",
      "Epoch 227/300\n",
      "128/128 [==============================] - 0s 885us/step - loss: 2.3433 - accuracy: 0.9132\n",
      "Epoch 228/300\n",
      "128/128 [==============================] - 0s 842us/step - loss: 1.9883 - accuracy: 0.9198\n",
      "Epoch 229/300\n",
      "128/128 [==============================] - 0s 638us/step - loss: 3.3933 - accuracy: 0.9151\n",
      "Epoch 230/300\n",
      "128/128 [==============================] - 0s 609us/step - loss: 2.7321 - accuracy: 0.9163\n",
      "Epoch 231/300\n",
      "128/128 [==============================] - 0s 575us/step - loss: 2.3991 - accuracy: 0.9178\n",
      "Epoch 232/300\n",
      "128/128 [==============================] - 0s 592us/step - loss: 1.4411 - accuracy: 0.9200\n",
      "Epoch 233/300\n",
      "128/128 [==============================] - 0s 581us/step - loss: 2.6889 - accuracy: 0.9195\n",
      "Epoch 234/300\n",
      "128/128 [==============================] - 0s 574us/step - loss: 3.6494 - accuracy: 0.9159\n",
      "Epoch 235/300\n",
      "128/128 [==============================] - 0s 697us/step - loss: 2.4926 - accuracy: 0.9146\n",
      "Epoch 236/300\n",
      "128/128 [==============================] - 0s 611us/step - loss: 3.3261 - accuracy: 0.9132\n",
      "Epoch 237/300\n",
      "128/128 [==============================] - 0s 580us/step - loss: 3.3844 - accuracy: 0.9171\n",
      "Epoch 238/300\n",
      "128/128 [==============================] - 0s 599us/step - loss: 1.9006 - accuracy: 0.9198\n",
      "Epoch 239/300\n",
      "128/128 [==============================] - 0s 601us/step - loss: 3.5881 - accuracy: 0.9124\n",
      "Epoch 240/300\n",
      "128/128 [==============================] - 0s 610us/step - loss: 2.1446 - accuracy: 0.9168\n",
      "Epoch 241/300\n",
      "128/128 [==============================] - 0s 574us/step - loss: 4.4604 - accuracy: 0.9146\n",
      "Epoch 242/300\n",
      "128/128 [==============================] - 0s 597us/step - loss: 1.7022 - accuracy: 0.9163\n",
      "Epoch 243/300\n",
      "128/128 [==============================] - 0s 535us/step - loss: 3.5516 - accuracy: 0.9185\n",
      "Epoch 244/300\n",
      "128/128 [==============================] - 0s 596us/step - loss: 3.9725 - accuracy: 0.9119\n",
      "Epoch 245/300\n",
      "128/128 [==============================] - 0s 582us/step - loss: 1.5082 - accuracy: 0.9136\n",
      "Epoch 246/300\n",
      "128/128 [==============================] - 0s 588us/step - loss: 5.4764 - accuracy: 0.9134\n",
      "Epoch 247/300\n",
      "128/128 [==============================] - 0s 618us/step - loss: 1.9991 - accuracy: 0.9188\n",
      "Epoch 248/300\n",
      "128/128 [==============================] - 0s 632us/step - loss: 3.7425 - accuracy: 0.9144\n",
      "Epoch 249/300\n",
      "128/128 [==============================] - 0s 590us/step - loss: 3.3180 - accuracy: 0.9163\n",
      "Epoch 250/300\n",
      "128/128 [==============================] - 0s 571us/step - loss: 2.0997 - accuracy: 0.9166\n",
      "Epoch 251/300\n",
      "128/128 [==============================] - 0s 599us/step - loss: 1.8992 - accuracy: 0.9190\n",
      "Epoch 252/300\n",
      "128/128 [==============================] - 0s 582us/step - loss: 2.1971 - accuracy: 0.9178\n",
      "Epoch 253/300\n",
      "128/128 [==============================] - 0s 604us/step - loss: 2.5230 - accuracy: 0.9151\n",
      "Epoch 254/300\n",
      "128/128 [==============================] - 0s 611us/step - loss: 2.4964 - accuracy: 0.9183\n",
      "Epoch 255/300\n",
      "128/128 [==============================] - 0s 581us/step - loss: 3.8191 - accuracy: 0.9149\n",
      "Epoch 256/300\n",
      "128/128 [==============================] - 0s 599us/step - loss: 3.0187 - accuracy: 0.9129\n",
      "Epoch 257/300\n",
      "128/128 [==============================] - 0s 583us/step - loss: 1.6852 - accuracy: 0.9146\n",
      "Epoch 258/300\n",
      "128/128 [==============================] - 0s 592us/step - loss: 1.6469 - accuracy: 0.9193\n",
      "Epoch 259/300\n",
      "128/128 [==============================] - 0s 587us/step - loss: 3.0355 - accuracy: 0.9132\n",
      "Epoch 260/300\n",
      "128/128 [==============================] - 0s 652us/step - loss: 3.4616 - accuracy: 0.9141\n",
      "Epoch 261/300\n",
      "128/128 [==============================] - 0s 672us/step - loss: 2.5277 - accuracy: 0.9119\n",
      "Epoch 262/300\n",
      "128/128 [==============================] - 0s 571us/step - loss: 2.4270 - accuracy: 0.9200\n",
      "Epoch 263/300\n",
      "128/128 [==============================] - 0s 548us/step - loss: 2.6122 - accuracy: 0.9159\n",
      "Epoch 264/300\n",
      "128/128 [==============================] - 0s 596us/step - loss: 2.9114 - accuracy: 0.9188\n",
      "Epoch 265/300\n",
      "128/128 [==============================] - 0s 585us/step - loss: 3.2446 - accuracy: 0.9127\n",
      "Epoch 266/300\n",
      "128/128 [==============================] - 0s 584us/step - loss: 2.3026 - accuracy: 0.9232\n",
      "Epoch 267/300\n",
      "128/128 [==============================] - 0s 591us/step - loss: 3.0451 - accuracy: 0.9168\n",
      "Epoch 268/300\n",
      "128/128 [==============================] - 0s 582us/step - loss: 1.6020 - accuracy: 0.9161\n",
      "Epoch 269/300\n",
      "128/128 [==============================] - 0s 583us/step - loss: 1.6240 - accuracy: 0.9200\n",
      "Epoch 270/300\n",
      "128/128 [==============================] - 0s 596us/step - loss: 2.6660 - accuracy: 0.9210\n",
      "Epoch 271/300\n",
      "128/128 [==============================] - 0s 590us/step - loss: 2.6111 - accuracy: 0.9198\n",
      "Epoch 272/300\n",
      "128/128 [==============================] - 0s 588us/step - loss: 1.6505 - accuracy: 0.9168\n",
      "Epoch 273/300\n",
      "128/128 [==============================] - 0s 592us/step - loss: 2.1756 - accuracy: 0.9159\n",
      "Epoch 274/300\n",
      "128/128 [==============================] - 0s 621us/step - loss: 3.1702 - accuracy: 0.9178\n",
      "Epoch 275/300\n",
      "128/128 [==============================] - 0s 636us/step - loss: 2.4612 - accuracy: 0.9200\n",
      "Epoch 276/300\n",
      "128/128 [==============================] - 0s 590us/step - loss: 1.4287 - accuracy: 0.9154\n",
      "Epoch 277/300\n",
      "128/128 [==============================] - 0s 517us/step - loss: 2.3113 - accuracy: 0.9205\n",
      "Epoch 278/300\n",
      "128/128 [==============================] - 0s 665us/step - loss: 3.2127 - accuracy: 0.9190\n",
      "Epoch 279/300\n",
      "128/128 [==============================] - 0s 596us/step - loss: 2.6950 - accuracy: 0.9193\n",
      "Epoch 280/300\n",
      "128/128 [==============================] - 0s 613us/step - loss: 3.0064 - accuracy: 0.9136\n",
      "Epoch 281/300\n",
      "128/128 [==============================] - 0s 694us/step - loss: 2.2907 - accuracy: 0.9200\n",
      "Epoch 282/300\n",
      "128/128 [==============================] - 0s 565us/step - loss: 3.5686 - accuracy: 0.9156\n",
      "Epoch 283/300\n",
      "128/128 [==============================] - 0s 561us/step - loss: 2.0736 - accuracy: 0.9173\n",
      "Epoch 284/300\n",
      "128/128 [==============================] - 0s 578us/step - loss: 2.6857 - accuracy: 0.9168\n",
      "Epoch 285/300\n",
      "128/128 [==============================] - 0s 590us/step - loss: 1.6007 - accuracy: 0.9183\n",
      "Epoch 286/300\n",
      "128/128 [==============================] - 0s 593us/step - loss: 3.7314 - accuracy: 0.9141\n",
      "Epoch 287/300\n",
      "128/128 [==============================] - 0s 514us/step - loss: 4.0680 - accuracy: 0.9185\n",
      "Epoch 288/300\n",
      "128/128 [==============================] - 0s 567us/step - loss: 3.2350 - accuracy: 0.9119\n",
      "Epoch 289/300\n",
      "128/128 [==============================] - 0s 563us/step - loss: 2.1703 - accuracy: 0.9210\n",
      "Epoch 290/300\n",
      "128/128 [==============================] - 0s 669us/step - loss: 2.0243 - accuracy: 0.9124\n",
      "Epoch 291/300\n",
      "128/128 [==============================] - 0s 559us/step - loss: 3.2353 - accuracy: 0.9200\n",
      "Epoch 292/300\n",
      "128/128 [==============================] - 0s 560us/step - loss: 3.5504 - accuracy: 0.9146\n",
      "Epoch 293/300\n",
      "128/128 [==============================] - 0s 601us/step - loss: 1.8861 - accuracy: 0.9139\n",
      "Epoch 294/300\n",
      "128/128 [==============================] - 0s 581us/step - loss: 3.0514 - accuracy: 0.9185\n",
      "Epoch 295/300\n",
      "128/128 [==============================] - 0s 546us/step - loss: 1.2925 - accuracy: 0.9185\n",
      "Epoch 296/300\n",
      "128/128 [==============================] - 0s 573us/step - loss: 3.7111 - accuracy: 0.9149\n",
      "Epoch 297/300\n",
      "128/128 [==============================] - 0s 575us/step - loss: 3.1191 - accuracy: 0.9166\n",
      "Epoch 298/300\n",
      "128/128 [==============================] - 0s 584us/step - loss: 2.7755 - accuracy: 0.9100\n",
      "Epoch 299/300\n",
      "128/128 [==============================] - 0s 565us/step - loss: 3.3572 - accuracy: 0.9185\n",
      "Epoch 300/300\n",
      "128/128 [==============================] - 0s 573us/step - loss: 1.5027 - accuracy: 0.9215\n"
     ]
    },
    {
     "data": {
      "text/plain": [
       "<keras.callbacks.History at 0x1fc141e4160>"
      ]
     },
     "execution_count": 447,
     "metadata": {},
     "output_type": "execute_result"
    }
   ],
   "source": [
    "#import tensorflow as tf\n",
    "#tf.convert_to_tensor()\n",
    "model.fit(X_train,Y_train,epochs=300)\n",
    "#tf.convert_to_tensor()\n",
    "#Y_pred_dt = dt.predict(X_test)"
   ]
  },
  {
   "cell_type": "code",
   "execution_count": 448,
   "id": "aea2a710",
   "metadata": {},
   "outputs": [],
   "source": [
    "Y_pred_nn = model.predict(X_test)"
   ]
  },
  {
   "cell_type": "code",
   "execution_count": 449,
   "id": "b2e33be7",
   "metadata": {},
   "outputs": [
    {
     "data": {
      "text/plain": [
       "(1022, 1)"
      ]
     },
     "execution_count": 449,
     "metadata": {},
     "output_type": "execute_result"
    }
   ],
   "source": [
    "Y_pred_nn.shape"
   ]
  },
  {
   "cell_type": "code",
   "execution_count": 450,
   "id": "244783d9",
   "metadata": {},
   "outputs": [],
   "source": [
    "rounded = [round(x[0]) for x in Y_pred_nn]\n",
    "\n",
    "Y_pred_nn = rounded"
   ]
  },
  {
   "cell_type": "code",
   "execution_count": 451,
   "id": "743bb635",
   "metadata": {},
   "outputs": [
    {
     "name": "stdout",
     "output_type": "stream",
     "text": [
      "The accuracy score achieved using Neural Network is: 83.86 %\n"
     ]
    }
   ],
   "source": [
    "score_nn = round(accuracy_score(Y_pred_nn,Y_test)*100,2)\n",
    "\n",
    "print(\"The accuracy score achieved using Neural Network is: \"+str(score_nn)+\" %\")\n",
    "\n",
    "#Note: Accuracy of 85% can be achieved on the test set, by setting epochs=2000, and number of nodes = 11. "
   ]
  },
  {
   "cell_type": "code",
   "execution_count": 452,
   "id": "6f786303",
   "metadata": {},
   "outputs": [],
   "source": [
    "#VI. Output final score"
   ]
  },
  {
   "cell_type": "code",
   "execution_count": 453,
   "id": "51188641",
   "metadata": {},
   "outputs": [
    {
     "name": "stdout",
     "output_type": "stream",
     "text": [
      "The accuracy score achieved using Logistic Regression is: 94.42 %\n",
      "The accuracy score achieved using Naive Bayes is: 92.37 %\n",
      "The accuracy score achieved using Support Vector Machine is: 94.13 %\n",
      "The accuracy score achieved using K-Nearest Neighbors is: 94.72 %\n",
      "The accuracy score achieved using Decision Tree is: 91.98 %\n",
      "The accuracy score achieved using Random Forest is: 95.01 %\n",
      "The accuracy score achieved using XGBoost is: 94.62 %\n",
      "The accuracy score achieved using Neural Network is: 83.86 %\n"
     ]
    }
   ],
   "source": [
    "scores = [score_lr,score_nb,score_svm,score_knn,score_dt,score_rf,score_xgb,score_nn]\n",
    "algorithms = [\"Logistic Regression\",\"Naive Bayes\",\"Support Vector Machine\",\"K-Nearest Neighbors\",\"Decision Tree\",\"Random Forest\",\"XGBoost\",\"Neural Network\"]    \n",
    "\n",
    "for i in range(len(algorithms)):\n",
    "    print(\"The accuracy score achieved using \"+algorithms[i]+\" is: \"+str(scores[i])+\" %\")"
   ]
  },
  {
   "cell_type": "code",
   "execution_count": 454,
   "id": "11f53e10",
   "metadata": {},
   "outputs": [
    {
     "data": {
      "text/plain": [
       "<AxesSubplot:xlabel='Algorithms', ylabel='Accuracy score'>"
      ]
     },
     "execution_count": 454,
     "metadata": {},
     "output_type": "execute_result"
    },
    {
     "data": {
      "image/png": "[encoded data removed]",
      "text/plain": [
       "<Figure size 1080x576 with 1 Axes>"
      ]
     },
     "metadata": {},
     "output_type": "display_data"
    }
   ],
   "source": [
    "sns.set(rc={'figure.figsize':(15,8)})\n",
    "plt.xlabel(\"Algorithms\")\n",
    "plt.ylabel(\"Accuracy score\")\n",
    "\n",
    "sns.barplot(algorithms,scores)"
   ]
  },
  {
   "cell_type": "code",
   "execution_count": null,
   "id": "a209ceba",
   "metadata": {},
   "outputs": [],
   "source": []
  },
  {
   "cell_type": "code",
   "execution_count": null,
   "id": "36f52edf",
   "metadata": {},
   "outputs": [],
   "source": []
  }
 ],
 "metadata": {
  "kernelspec": {
   "display_name": "Python 3",
   "language": "python",
   "name": "python3"
  },
  "language_info": {
   "codemirror_mode": {
    "name": "ipython",
    "version": 3
   },
   "file_extension": ".py",
   "mimetype": "text/x-python",
   "name": "python",
   "nbconvert_exporter": "python",
   "pygments_lexer": "ipython3",
   "version": "3.8.8"
  }
 },
 "nbformat": 4,
 "nbformat_minor": 5
}
